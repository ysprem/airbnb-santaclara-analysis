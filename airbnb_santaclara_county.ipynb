{
  "nbformat": 4,
  "nbformat_minor": 0,
  "metadata": {
    "colab": {
      "name": "airbnb-santaclara-county",
      "provenance": [],
      "collapsed_sections": [],
      "mount_file_id": "1QD7Fzit0-vP-ktRRbPZtvkLnQEbPC9pS",
      "authorship_tag": "ABX9TyOeppDnKvbiztlzwNpypKQT",
      "include_colab_link": true
    },
    "kernelspec": {
      "name": "python3",
      "display_name": "Python 3"
    },
    "language_info": {
      "name": "python"
    }
  },
  "cells": [
    {
      "cell_type": "markdown",
      "metadata": {
        "id": "view-in-github",
        "colab_type": "text"
      },
      "source": [
        "<a href=\"https://colab.research.google.com/github/ysprem/airbnb-santaclara-analysis/blob/main/airbnb_santaclara_county.ipynb\" target=\"_parent\"><img src=\"https://colab.research.google.com/assets/colab-badge.svg\" alt=\"Open In Colab\"/></a>"
      ]
    },
    {
      "cell_type": "code",
      "metadata": {
        "id": "S2A5cgh0w4U3"
      },
      "source": [
        "import pandas as pd\n",
        "import numpy as np\n",
        "import matplotlib.pyplot as plt\n",
        "import seaborn as sns"
      ],
      "execution_count": 2,
      "outputs": []
    },
    {
      "cell_type": "code",
      "metadata": {
        "colab": {
          "base_uri": "https://localhost:8080/"
        },
        "id": "fVLvDmAbF02M",
        "outputId": "c23ab331-8f27-4a8c-9251-ab947ee51a31"
      },
      "source": [
        "from google.colab import drive\n",
        "drive.mount('/content/gdrive')"
      ],
      "execution_count": 3,
      "outputs": [
        {
          "output_type": "stream",
          "text": [
            "Mounted at /content/gdrive\n"
          ],
          "name": "stdout"
        }
      ]
    },
    {
      "cell_type": "code",
      "metadata": {
        "id": "obOTILfNGAyx"
      },
      "source": [
        "df_listings = pd.read_csv('/content/gdrive/MyDrive/airbnb_santaclara_dataset/listings.csv')\n",
        "df_calendar = pd.read_csv('/content/gdrive/MyDrive/airbnb_santaclara_dataset/calendar.csv')\n",
        "df_neighbourhoods = pd.read_csv('/content/gdrive/MyDrive/airbnb_santaclara_dataset/neighbourhoods.csv')\n",
        "df_reviews = pd.read_csv('/content/gdrive/MyDrive/airbnb_santaclara_dataset/reviews.csv')"
      ],
      "execution_count": 5,
      "outputs": []
    },
    {
      "cell_type": "code",
      "metadata": {
        "colab": {
          "base_uri": "https://localhost:8080/",
          "height": 221
        },
        "id": "DL5L95-QH59q",
        "outputId": "fdbe924f-f6cd-47c6-e5a3-5672b095e7f7"
      },
      "source": [
        "df_listings.head()"
      ],
      "execution_count": 6,
      "outputs": [
        {
          "output_type": "execute_result",
          "data": {
            "text/html": [
              "<div>\n",
              "<style scoped>\n",
              "    .dataframe tbody tr th:only-of-type {\n",
              "        vertical-align: middle;\n",
              "    }\n",
              "\n",
              "    .dataframe tbody tr th {\n",
              "        vertical-align: top;\n",
              "    }\n",
              "\n",
              "    .dataframe thead th {\n",
              "        text-align: right;\n",
              "    }\n",
              "</style>\n",
              "<table border=\"1\" class=\"dataframe\">\n",
              "  <thead>\n",
              "    <tr style=\"text-align: right;\">\n",
              "      <th></th>\n",
              "      <th>id</th>\n",
              "      <th>name</th>\n",
              "      <th>host_id</th>\n",
              "      <th>host_name</th>\n",
              "      <th>neighbourhood_group</th>\n",
              "      <th>neighbourhood</th>\n",
              "      <th>latitude</th>\n",
              "      <th>longitude</th>\n",
              "      <th>room_type</th>\n",
              "      <th>price</th>\n",
              "      <th>minimum_nights</th>\n",
              "      <th>number_of_reviews</th>\n",
              "      <th>last_review</th>\n",
              "      <th>reviews_per_month</th>\n",
              "      <th>calculated_host_listings_count</th>\n",
              "      <th>availability_365</th>\n",
              "    </tr>\n",
              "  </thead>\n",
              "  <tbody>\n",
              "    <tr>\n",
              "      <th>0</th>\n",
              "      <td>11464</td>\n",
              "      <td>Deluxe Studio 5 min.  to SC Kaiser &amp; Apple Park</td>\n",
              "      <td>42458</td>\n",
              "      <td>Emey</td>\n",
              "      <td>NaN</td>\n",
              "      <td>Santa Clara</td>\n",
              "      <td>37.34342</td>\n",
              "      <td>-121.98829</td>\n",
              "      <td>Entire home/apt</td>\n",
              "      <td>75</td>\n",
              "      <td>4</td>\n",
              "      <td>8</td>\n",
              "      <td>2021-01-17</td>\n",
              "      <td>0.10</td>\n",
              "      <td>17</td>\n",
              "      <td>149</td>\n",
              "    </tr>\n",
              "    <tr>\n",
              "      <th>1</th>\n",
              "      <td>21373</td>\n",
              "      <td>Bonsai Garden Inn in Professorville</td>\n",
              "      <td>7054</td>\n",
              "      <td>Mei Lin</td>\n",
              "      <td>NaN</td>\n",
              "      <td>Palo Alto</td>\n",
              "      <td>37.44001</td>\n",
              "      <td>-122.15667</td>\n",
              "      <td>Private room</td>\n",
              "      <td>80</td>\n",
              "      <td>2</td>\n",
              "      <td>264</td>\n",
              "      <td>2020-03-14</td>\n",
              "      <td>2.02</td>\n",
              "      <td>4</td>\n",
              "      <td>226</td>\n",
              "    </tr>\n",
              "    <tr>\n",
              "      <th>2</th>\n",
              "      <td>37512</td>\n",
              "      <td>Private  room - Parking 3 carport</td>\n",
              "      <td>161741</td>\n",
              "      <td>Maria</td>\n",
              "      <td>NaN</td>\n",
              "      <td>San Jose</td>\n",
              "      <td>37.30598</td>\n",
              "      <td>-121.84036</td>\n",
              "      <td>Private room</td>\n",
              "      <td>48</td>\n",
              "      <td>1</td>\n",
              "      <td>183</td>\n",
              "      <td>2017-03-14</td>\n",
              "      <td>1.42</td>\n",
              "      <td>2</td>\n",
              "      <td>236</td>\n",
              "    </tr>\n",
              "    <tr>\n",
              "      <th>3</th>\n",
              "      <td>52786</td>\n",
              "      <td>Cozy Room in A Quiet Community</td>\n",
              "      <td>161741</td>\n",
              "      <td>Maria</td>\n",
              "      <td>NaN</td>\n",
              "      <td>San Jose</td>\n",
              "      <td>37.30521</td>\n",
              "      <td>-121.84149</td>\n",
              "      <td>Private room</td>\n",
              "      <td>50</td>\n",
              "      <td>1</td>\n",
              "      <td>478</td>\n",
              "      <td>2020-03-11</td>\n",
              "      <td>3.80</td>\n",
              "      <td>2</td>\n",
              "      <td>236</td>\n",
              "    </tr>\n",
              "    <tr>\n",
              "      <th>4</th>\n",
              "      <td>62799</td>\n",
              "      <td>Zen Office and Sofa in Palo Alto</td>\n",
              "      <td>7054</td>\n",
              "      <td>Mei Lin</td>\n",
              "      <td>NaN</td>\n",
              "      <td>Palo Alto</td>\n",
              "      <td>37.43925</td>\n",
              "      <td>-122.15617</td>\n",
              "      <td>Private room</td>\n",
              "      <td>100</td>\n",
              "      <td>7</td>\n",
              "      <td>148</td>\n",
              "      <td>2020-03-18</td>\n",
              "      <td>1.81</td>\n",
              "      <td>4</td>\n",
              "      <td>225</td>\n",
              "    </tr>\n",
              "  </tbody>\n",
              "</table>\n",
              "</div>"
            ],
            "text/plain": [
              "      id  ... availability_365\n",
              "0  11464  ...              149\n",
              "1  21373  ...              226\n",
              "2  37512  ...              236\n",
              "3  52786  ...              236\n",
              "4  62799  ...              225\n",
              "\n",
              "[5 rows x 16 columns]"
            ]
          },
          "metadata": {
            "tags": []
          },
          "execution_count": 6
        }
      ]
    },
    {
      "cell_type": "code",
      "metadata": {
        "colab": {
          "base_uri": "https://localhost:8080/",
          "height": 204
        },
        "id": "5H5tWf_kJKNf",
        "outputId": "9415b58a-bac8-4ec2-8e71-9e30b8adfff5"
      },
      "source": [
        "df_calendar.head()"
      ],
      "execution_count": 7,
      "outputs": [
        {
          "output_type": "execute_result",
          "data": {
            "text/html": [
              "<div>\n",
              "<style scoped>\n",
              "    .dataframe tbody tr th:only-of-type {\n",
              "        vertical-align: middle;\n",
              "    }\n",
              "\n",
              "    .dataframe tbody tr th {\n",
              "        vertical-align: top;\n",
              "    }\n",
              "\n",
              "    .dataframe thead th {\n",
              "        text-align: right;\n",
              "    }\n",
              "</style>\n",
              "<table border=\"1\" class=\"dataframe\">\n",
              "  <thead>\n",
              "    <tr style=\"text-align: right;\">\n",
              "      <th></th>\n",
              "      <th>listing_id</th>\n",
              "      <th>date</th>\n",
              "      <th>available</th>\n",
              "      <th>price</th>\n",
              "      <th>adjusted_price</th>\n",
              "      <th>minimum_nights</th>\n",
              "      <th>maximum_nights</th>\n",
              "    </tr>\n",
              "  </thead>\n",
              "  <tbody>\n",
              "    <tr>\n",
              "      <th>0</th>\n",
              "      <td>11464</td>\n",
              "      <td>2021-02-21</td>\n",
              "      <td>f</td>\n",
              "      <td>$75.00</td>\n",
              "      <td>$75.00</td>\n",
              "      <td>4.0</td>\n",
              "      <td>1125.0</td>\n",
              "    </tr>\n",
              "    <tr>\n",
              "      <th>1</th>\n",
              "      <td>917723</td>\n",
              "      <td>2021-02-22</td>\n",
              "      <td>t</td>\n",
              "      <td>$100.00</td>\n",
              "      <td>$100.00</td>\n",
              "      <td>1.0</td>\n",
              "      <td>15.0</td>\n",
              "    </tr>\n",
              "    <tr>\n",
              "      <th>2</th>\n",
              "      <td>917723</td>\n",
              "      <td>2021-02-23</td>\n",
              "      <td>t</td>\n",
              "      <td>$100.00</td>\n",
              "      <td>$100.00</td>\n",
              "      <td>1.0</td>\n",
              "      <td>15.0</td>\n",
              "    </tr>\n",
              "    <tr>\n",
              "      <th>3</th>\n",
              "      <td>917723</td>\n",
              "      <td>2021-02-24</td>\n",
              "      <td>t</td>\n",
              "      <td>$100.00</td>\n",
              "      <td>$100.00</td>\n",
              "      <td>1.0</td>\n",
              "      <td>15.0</td>\n",
              "    </tr>\n",
              "    <tr>\n",
              "      <th>4</th>\n",
              "      <td>917723</td>\n",
              "      <td>2021-02-25</td>\n",
              "      <td>t</td>\n",
              "      <td>$100.00</td>\n",
              "      <td>$100.00</td>\n",
              "      <td>1.0</td>\n",
              "      <td>15.0</td>\n",
              "    </tr>\n",
              "  </tbody>\n",
              "</table>\n",
              "</div>"
            ],
            "text/plain": [
              "   listing_id        date  ... minimum_nights maximum_nights\n",
              "0       11464  2021-02-21  ...            4.0         1125.0\n",
              "1      917723  2021-02-22  ...            1.0           15.0\n",
              "2      917723  2021-02-23  ...            1.0           15.0\n",
              "3      917723  2021-02-24  ...            1.0           15.0\n",
              "4      917723  2021-02-25  ...            1.0           15.0\n",
              "\n",
              "[5 rows x 7 columns]"
            ]
          },
          "metadata": {
            "tags": []
          },
          "execution_count": 7
        }
      ]
    },
    {
      "cell_type": "code",
      "metadata": {
        "colab": {
          "base_uri": "https://localhost:8080/",
          "height": 204
        },
        "id": "-X27txkEJaw-",
        "outputId": "02e6e33f-d282-4371-de9a-c233c0ef6f31"
      },
      "source": [
        "df_reviews.head()"
      ],
      "execution_count": 8,
      "outputs": [
        {
          "output_type": "execute_result",
          "data": {
            "text/html": [
              "<div>\n",
              "<style scoped>\n",
              "    .dataframe tbody tr th:only-of-type {\n",
              "        vertical-align: middle;\n",
              "    }\n",
              "\n",
              "    .dataframe tbody tr th {\n",
              "        vertical-align: top;\n",
              "    }\n",
              "\n",
              "    .dataframe thead th {\n",
              "        text-align: right;\n",
              "    }\n",
              "</style>\n",
              "<table border=\"1\" class=\"dataframe\">\n",
              "  <thead>\n",
              "    <tr style=\"text-align: right;\">\n",
              "      <th></th>\n",
              "      <th>listing_id</th>\n",
              "      <th>date</th>\n",
              "    </tr>\n",
              "  </thead>\n",
              "  <tbody>\n",
              "    <tr>\n",
              "      <th>0</th>\n",
              "      <td>11464</td>\n",
              "      <td>2014-06-15</td>\n",
              "    </tr>\n",
              "    <tr>\n",
              "      <th>1</th>\n",
              "      <td>11464</td>\n",
              "      <td>2014-12-13</td>\n",
              "    </tr>\n",
              "    <tr>\n",
              "      <th>2</th>\n",
              "      <td>11464</td>\n",
              "      <td>2016-08-21</td>\n",
              "    </tr>\n",
              "    <tr>\n",
              "      <th>3</th>\n",
              "      <td>11464</td>\n",
              "      <td>2018-07-28</td>\n",
              "    </tr>\n",
              "    <tr>\n",
              "      <th>4</th>\n",
              "      <td>11464</td>\n",
              "      <td>2018-08-26</td>\n",
              "    </tr>\n",
              "  </tbody>\n",
              "</table>\n",
              "</div>"
            ],
            "text/plain": [
              "   listing_id        date\n",
              "0       11464  2014-06-15\n",
              "1       11464  2014-12-13\n",
              "2       11464  2016-08-21\n",
              "3       11464  2018-07-28\n",
              "4       11464  2018-08-26"
            ]
          },
          "metadata": {
            "tags": []
          },
          "execution_count": 8
        }
      ]
    },
    {
      "cell_type": "markdown",
      "metadata": {
        "id": "ZL9oiARyL-eD"
      },
      "source": [
        "**Which city in Santa Clara county has the most Airbnb listings? Which city has the least number of listings? What type of listings are they? (% of private room listings vs % of entire home listings vs % of shared room listings)**"
      ]
    },
    {
      "cell_type": "code",
      "metadata": {
        "colab": {
          "base_uri": "https://localhost:8080/"
        },
        "id": "ZXWNBU6zMLOZ",
        "outputId": "d7e82c5b-d26d-4afd-ae59-aa34e6a53bc0"
      },
      "source": [
        "df_listings.neighbourhood.value_counts()"
      ],
      "execution_count": 13,
      "outputs": [
        {
          "output_type": "execute_result",
          "data": {
            "text/plain": [
              "San Jose                2127\n",
              "Sunnyvale                556\n",
              "Santa Clara              554\n",
              "Palo Alto                537\n",
              "Mountain View            487\n",
              "Cupertino                229\n",
              "Unincorporated Areas     211\n",
              "Milpitas                 161\n",
              "Campbell                  94\n",
              "Los Altos                 67\n",
              "Los Gatos                 61\n",
              "Saratoga                  58\n",
              "Los Altos Hills           34\n",
              "Morgan Hill               31\n",
              "Gilroy                    19\n",
              "Monte Sereno              16\n",
              "Name: neighbourhood, dtype: int64"
            ]
          },
          "metadata": {
            "tags": []
          },
          "execution_count": 13
        }
      ]
    },
    {
      "cell_type": "code",
      "metadata": {
        "colab": {
          "base_uri": "https://localhost:8080/"
        },
        "id": "H9bO9KF_eJq9",
        "outputId": "1d5c1fd8-2642-438b-80e4-0d1d7665d52a"
      },
      "source": [
        "df_listings.room_type.value_counts()"
      ],
      "execution_count": 14,
      "outputs": [
        {
          "output_type": "execute_result",
          "data": {
            "text/plain": [
              "Entire home/apt    2719\n",
              "Private room       2349\n",
              "Shared room         171\n",
              "Hotel room            3\n",
              "Name: room_type, dtype: int64"
            ]
          },
          "metadata": {
            "tags": []
          },
          "execution_count": 14
        }
      ]
    },
    {
      "cell_type": "code",
      "metadata": {
        "colab": {
          "base_uri": "https://localhost:8080/"
        },
        "id": "gThshIdkHF6V",
        "outputId": "7697400b-9abc-4681-9b31-deae3bfd6740"
      },
      "source": [
        "!pip install pandasql"
      ],
      "execution_count": 10,
      "outputs": [
        {
          "output_type": "stream",
          "text": [
            "Collecting pandasql\n",
            "  Downloading https://files.pythonhosted.org/packages/6b/c4/ee4096ffa2eeeca0c749b26f0371bd26aa5c8b611c43de99a4f86d3de0a7/pandasql-0.7.3.tar.gz\n",
            "Requirement already satisfied: numpy in /usr/local/lib/python3.7/dist-packages (from pandasql) (1.19.5)\n",
            "Requirement already satisfied: pandas in /usr/local/lib/python3.7/dist-packages (from pandasql) (1.1.5)\n",
            "Requirement already satisfied: sqlalchemy in /usr/local/lib/python3.7/dist-packages (from pandasql) (1.4.3)\n",
            "Requirement already satisfied: pytz>=2017.2 in /usr/local/lib/python3.7/dist-packages (from pandas->pandasql) (2018.9)\n",
            "Requirement already satisfied: python-dateutil>=2.7.3 in /usr/local/lib/python3.7/dist-packages (from pandas->pandasql) (2.8.1)\n",
            "Requirement already satisfied: importlib-metadata; python_version < \"3.8\" in /usr/local/lib/python3.7/dist-packages (from sqlalchemy->pandasql) (3.8.1)\n",
            "Requirement already satisfied: greenlet!=0.4.17; python_version >= \"3\" in /usr/local/lib/python3.7/dist-packages (from sqlalchemy->pandasql) (1.0.0)\n",
            "Requirement already satisfied: six>=1.5 in /usr/local/lib/python3.7/dist-packages (from python-dateutil>=2.7.3->pandas->pandasql) (1.15.0)\n",
            "Requirement already satisfied: zipp>=0.5 in /usr/local/lib/python3.7/dist-packages (from importlib-metadata; python_version < \"3.8\"->sqlalchemy->pandasql) (3.4.1)\n",
            "Requirement already satisfied: typing-extensions>=3.6.4; python_version < \"3.8\" in /usr/local/lib/python3.7/dist-packages (from importlib-metadata; python_version < \"3.8\"->sqlalchemy->pandasql) (3.7.4.3)\n",
            "Building wheels for collected packages: pandasql\n",
            "  Building wheel for pandasql (setup.py) ... \u001b[?25l\u001b[?25hdone\n",
            "  Created wheel for pandasql: filename=pandasql-0.7.3-cp37-none-any.whl size=26820 sha256=3a6c1c5f507fa695249d5fee108a29bdfae3b6fdfb615c6419cc833a0cbaa885\n",
            "  Stored in directory: /root/.cache/pip/wheels/53/6c/18/b87a2e5fa8a82e9c026311de56210b8d1c01846e18a9607fc9\n",
            "Successfully built pandasql\n",
            "Installing collected packages: pandasql\n",
            "Successfully installed pandasql-0.7.3\n"
          ],
          "name": "stdout"
        }
      ]
    },
    {
      "cell_type": "code",
      "metadata": {
        "id": "KHgpefHXMqGo"
      },
      "source": [
        "from pandasql import sqldf"
      ],
      "execution_count": 11,
      "outputs": []
    },
    {
      "cell_type": "code",
      "metadata": {
        "colab": {
          "base_uri": "https://localhost:8080/"
        },
        "id": "tmleMrcvM1rl",
        "outputId": "0ac9f2db-c353-4fd7-922c-ac76247fffad"
      },
      "source": [
        "result1 = sqldf(\"SELECT neighbourhood, num_listings, entire_home*100/num_listings AS entire_home, private_room*100/num_listings AS private_room, shared_room*100/num_listings AS shared_room FROM (SELECT neighbourhood, COUNT(id) AS num_listings, SUM(CASE WHEN room_type LIKE 'Entire home/apt' THEN 1 ELSE 0 END) AS entire_home, SUM(CASE WHEN room_type LIKE 'Private room' THEN 1 ELSE 0 END) AS private_room, SUM(CASE WHEN room_type LIKE 'Shared room' THEN 1 ELSE 0 END) AS shared_room FROM df_listings GROUP BY neighbourhood)\")\n",
        "print(result1)"
      ],
      "execution_count": 38,
      "outputs": [
        {
          "output_type": "stream",
          "text": [
            "           neighbourhood  num_listings  entire_home  private_room  shared_room\n",
            "0               Campbell            94           59            38            2\n",
            "1              Cupertino           229           53            43            3\n",
            "2                 Gilroy            19           10            89            0\n",
            "3              Los Altos            67           53            40            5\n",
            "4        Los Altos Hills            34           44            44           11\n",
            "5              Los Gatos            61           54            45            0\n",
            "6               Milpitas           161           32            61            5\n",
            "7           Monte Sereno            16           93             6            0\n",
            "8            Morgan Hill            31           22            77            0\n",
            "9          Mountain View           487           69            27            3\n",
            "10             Palo Alto           537           63            34            1\n",
            "11              San Jose          2127           46            50            2\n",
            "12           Santa Clara           554           50            42            6\n",
            "13              Saratoga            58           46            53            0\n",
            "14             Sunnyvale           556           47            46            5\n",
            "15  Unincorporated Areas           211           64            34            0\n"
          ],
          "name": "stdout"
        }
      ]
    },
    {
      "cell_type": "markdown",
      "metadata": {
        "id": "Eh8rwW_bU51H"
      },
      "source": [
        "**Which city has received the most number of reviews from visitors? Which city has received the least? (This correlates with volume of vistors roughly) Which city has the most reviews on average per listing? (This correlates with user engagement on an average for the city, indicating whether the city has high quality or low quality listings)**"
      ]
    },
    {
      "cell_type": "code",
      "metadata": {
        "colab": {
          "base_uri": "https://localhost:8080/"
        },
        "id": "KfLGOcI1XJZl",
        "outputId": "bce63585-002f-4c9a-b70a-d10756d71da4"
      },
      "source": [
        "result2 = sqldf(\"SELECT neighbourhood, COUNT(id) AS num_listings, SUM(number_of_reviews) AS num_reviews,  SUM(number_of_reviews)/COUNT(id) AS avg_reviews_per_listing FROM df_listings GROUP BY neighbourhood\")\n",
        "print(result2)"
      ],
      "execution_count": 39,
      "outputs": [
        {
          "output_type": "stream",
          "text": [
            "           neighbourhood  num_listings  num_reviews  avg_reviews_per_listing\n",
            "0               Campbell            94         3160                       33\n",
            "1              Cupertino           229         5205                       22\n",
            "2                 Gilroy            19          336                       17\n",
            "3              Los Altos            67         2066                       30\n",
            "4        Los Altos Hills            34         1589                       46\n",
            "5              Los Gatos            61         2432                       39\n",
            "6               Milpitas           161         3189                       19\n",
            "7           Monte Sereno            16          885                       55\n",
            "8            Morgan Hill            31          446                       14\n",
            "9          Mountain View           487        13985                       28\n",
            "10             Palo Alto           537        19564                       36\n",
            "11              San Jose          2127        69478                       32\n",
            "12           Santa Clara           554        13288                       23\n",
            "13              Saratoga            58         1557                       26\n",
            "14             Sunnyvale           556        13422                       24\n",
            "15  Unincorporated Areas           211        11980                       56\n"
          ],
          "name": "stdout"
        }
      ]
    },
    {
      "cell_type": "markdown",
      "metadata": {
        "id": "lclTbqmqds8w"
      },
      "source": [
        "**In which month do we see a spike in reviews during the year?**"
      ]
    },
    {
      "cell_type": "code",
      "metadata": {
        "id": "MorTVPJmk3rn"
      },
      "source": [
        "import calendar\n",
        "df_reviews['month'] = pd.DatetimeIndex(df_reviews['date']).month\n",
        "df_reviews['month_name'] = df_reviews['month'].apply(lambda x: calendar.month_abbr[x])\n",
        "df_reviews.rename(columns={'listing_id': 'id'}, inplace=True)\n",
        "df_reviews.sort_values(by=['month'], inplace=True)"
      ],
      "execution_count": 15,
      "outputs": []
    },
    {
      "cell_type": "code",
      "metadata": {
        "colab": {
          "base_uri": "https://localhost:8080/",
          "height": 204
        },
        "id": "1myaTq38lNb-",
        "outputId": "dbd3dd0b-9329-404c-e2a2-b97196a158c2"
      },
      "source": [
        "df_reviews.head()"
      ],
      "execution_count": 16,
      "outputs": [
        {
          "output_type": "execute_result",
          "data": {
            "text/html": [
              "<div>\n",
              "<style scoped>\n",
              "    .dataframe tbody tr th:only-of-type {\n",
              "        vertical-align: middle;\n",
              "    }\n",
              "\n",
              "    .dataframe tbody tr th {\n",
              "        vertical-align: top;\n",
              "    }\n",
              "\n",
              "    .dataframe thead th {\n",
              "        text-align: right;\n",
              "    }\n",
              "</style>\n",
              "<table border=\"1\" class=\"dataframe\">\n",
              "  <thead>\n",
              "    <tr style=\"text-align: right;\">\n",
              "      <th></th>\n",
              "      <th>id</th>\n",
              "      <th>date</th>\n",
              "      <th>month</th>\n",
              "      <th>month_name</th>\n",
              "    </tr>\n",
              "  </thead>\n",
              "  <tbody>\n",
              "    <tr>\n",
              "      <th>68404</th>\n",
              "      <td>14697853</td>\n",
              "      <td>2019-01-06</td>\n",
              "      <td>1</td>\n",
              "      <td>Jan</td>\n",
              "    </tr>\n",
              "    <tr>\n",
              "      <th>103943</th>\n",
              "      <td>21566372</td>\n",
              "      <td>2021-01-09</td>\n",
              "      <td>1</td>\n",
              "      <td>Jan</td>\n",
              "    </tr>\n",
              "    <tr>\n",
              "      <th>103944</th>\n",
              "      <td>21566372</td>\n",
              "      <td>2021-01-11</td>\n",
              "      <td>1</td>\n",
              "      <td>Jan</td>\n",
              "    </tr>\n",
              "    <tr>\n",
              "      <th>103945</th>\n",
              "      <td>21566372</td>\n",
              "      <td>2021-01-22</td>\n",
              "      <td>1</td>\n",
              "      <td>Jan</td>\n",
              "    </tr>\n",
              "    <tr>\n",
              "      <th>142252</th>\n",
              "      <td>33271915</td>\n",
              "      <td>2020-01-30</td>\n",
              "      <td>1</td>\n",
              "      <td>Jan</td>\n",
              "    </tr>\n",
              "  </tbody>\n",
              "</table>\n",
              "</div>"
            ],
            "text/plain": [
              "              id        date  month month_name\n",
              "68404   14697853  2019-01-06      1        Jan\n",
              "103943  21566372  2021-01-09      1        Jan\n",
              "103944  21566372  2021-01-11      1        Jan\n",
              "103945  21566372  2021-01-22      1        Jan\n",
              "142252  33271915  2020-01-30      1        Jan"
            ]
          },
          "metadata": {
            "tags": []
          },
          "execution_count": 16
        }
      ]
    },
    {
      "cell_type": "code",
      "metadata": {
        "colab": {
          "base_uri": "https://localhost:8080/"
        },
        "id": "rlB3YfGUtYz2",
        "outputId": "ba8bef61-4fc0-43a0-c6db-a540599e52d3"
      },
      "source": [
        "result3 = sqldf(\"SELECT month_name, COUNT(*) AS num_reviews FROM df_reviews GROUP BY month\")\n",
        "print(result3)"
      ],
      "execution_count": 18,
      "outputs": [
        {
          "output_type": "stream",
          "text": [
            "   month_name  num_reviews\n",
            "0         Jan        13413\n",
            "1         Feb        12893\n",
            "2         Mar        12136\n",
            "3         Apr         9497\n",
            "4         May        13158\n",
            "5         Jun        13380\n",
            "6         Jul        13095\n",
            "7         Aug        15787\n",
            "8         Sep        15846\n",
            "9         Oct        16706\n",
            "10        Nov        14591\n",
            "11        Dec        12080\n"
          ],
          "name": "stdout"
        }
      ]
    },
    {
      "cell_type": "code",
      "metadata": {
        "colab": {
          "base_uri": "https://localhost:8080/",
          "height": 299
        },
        "id": "QgXQ3KqYzJR5",
        "outputId": "3f50e6dc-2dd3-4cfa-f681-fcbb16a08215"
      },
      "source": [
        "sns.lineplot(data=result3, x='month_name', y='num_reviews')"
      ],
      "execution_count": 20,
      "outputs": [
        {
          "output_type": "execute_result",
          "data": {
            "text/plain": [
              "<matplotlib.axes._subplots.AxesSubplot at 0x7f7630288890>"
            ]
          },
          "metadata": {
            "tags": []
          },
          "execution_count": 20
        },
        {
          "output_type": "display_data",
          "data": {
            "image/png": "[encoded data removed]",
            "text/plain": [
              "<Figure size 432x288 with 1 Axes>"
            ]
          },
          "metadata": {
            "tags": [],
            "needs_background": "light"
          }
        }
      ]
    },
    {
      "cell_type": "markdown",
      "metadata": {
        "id": "dELMi-Wez85c"
      },
      "source": [
        "**Which city has the highest average price and lowest average price? Does it change if we look at median prices?**"
      ]
    },
    {
      "cell_type": "code",
      "metadata": {
        "id": "Oc13Hq_70Yip"
      },
      "source": [
        "result4 = df_listings.groupby('neighbourhood').agg({'price': ['mean', 'median','min', 'max']})"
      ],
      "execution_count": 31,
      "outputs": []
    },
    {
      "cell_type": "code",
      "metadata": {
        "colab": {
          "base_uri": "https://localhost:8080/",
          "height": 607
        },
        "id": "kE3RsGlw89kL",
        "outputId": "11264474-6504-4a7e-d001-20f62ec37f01"
      },
      "source": [
        "result4.round()"
      ],
      "execution_count": 32,
      "outputs": [
        {
          "output_type": "execute_result",
          "data": {
            "text/html": [
              "<div>\n",
              "<style scoped>\n",
              "    .dataframe tbody tr th:only-of-type {\n",
              "        vertical-align: middle;\n",
              "    }\n",
              "\n",
              "    .dataframe tbody tr th {\n",
              "        vertical-align: top;\n",
              "    }\n",
              "\n",
              "    .dataframe thead tr th {\n",
              "        text-align: left;\n",
              "    }\n",
              "\n",
              "    .dataframe thead tr:last-of-type th {\n",
              "        text-align: right;\n",
              "    }\n",
              "</style>\n",
              "<table border=\"1\" class=\"dataframe\">\n",
              "  <thead>\n",
              "    <tr>\n",
              "      <th></th>\n",
              "      <th colspan=\"4\" halign=\"left\">price</th>\n",
              "    </tr>\n",
              "    <tr>\n",
              "      <th></th>\n",
              "      <th>mean</th>\n",
              "      <th>median</th>\n",
              "      <th>min</th>\n",
              "      <th>max</th>\n",
              "    </tr>\n",
              "    <tr>\n",
              "      <th>neighbourhood</th>\n",
              "      <th></th>\n",
              "      <th></th>\n",
              "      <th></th>\n",
              "      <th></th>\n",
              "    </tr>\n",
              "  </thead>\n",
              "  <tbody>\n",
              "    <tr>\n",
              "      <th>Campbell</th>\n",
              "      <td>169.0</td>\n",
              "      <td>124.0</td>\n",
              "      <td>25</td>\n",
              "      <td>2000</td>\n",
              "    </tr>\n",
              "    <tr>\n",
              "      <th>Cupertino</th>\n",
              "      <td>153.0</td>\n",
              "      <td>111.0</td>\n",
              "      <td>24</td>\n",
              "      <td>3157</td>\n",
              "    </tr>\n",
              "    <tr>\n",
              "      <th>Gilroy</th>\n",
              "      <td>153.0</td>\n",
              "      <td>65.0</td>\n",
              "      <td>36</td>\n",
              "      <td>1189</td>\n",
              "    </tr>\n",
              "    <tr>\n",
              "      <th>Los Altos</th>\n",
              "      <td>198.0</td>\n",
              "      <td>129.0</td>\n",
              "      <td>28</td>\n",
              "      <td>1000</td>\n",
              "    </tr>\n",
              "    <tr>\n",
              "      <th>Los Altos Hills</th>\n",
              "      <td>295.0</td>\n",
              "      <td>145.0</td>\n",
              "      <td>40</td>\n",
              "      <td>3998</td>\n",
              "    </tr>\n",
              "    <tr>\n",
              "      <th>Los Gatos</th>\n",
              "      <td>180.0</td>\n",
              "      <td>120.0</td>\n",
              "      <td>39</td>\n",
              "      <td>1000</td>\n",
              "    </tr>\n",
              "    <tr>\n",
              "      <th>Milpitas</th>\n",
              "      <td>149.0</td>\n",
              "      <td>85.0</td>\n",
              "      <td>0</td>\n",
              "      <td>2222</td>\n",
              "    </tr>\n",
              "    <tr>\n",
              "      <th>Monte Sereno</th>\n",
              "      <td>190.0</td>\n",
              "      <td>134.0</td>\n",
              "      <td>98</td>\n",
              "      <td>1000</td>\n",
              "    </tr>\n",
              "    <tr>\n",
              "      <th>Morgan Hill</th>\n",
              "      <td>95.0</td>\n",
              "      <td>80.0</td>\n",
              "      <td>45</td>\n",
              "      <td>180</td>\n",
              "    </tr>\n",
              "    <tr>\n",
              "      <th>Mountain View</th>\n",
              "      <td>193.0</td>\n",
              "      <td>136.0</td>\n",
              "      <td>24</td>\n",
              "      <td>1200</td>\n",
              "    </tr>\n",
              "    <tr>\n",
              "      <th>Palo Alto</th>\n",
              "      <td>224.0</td>\n",
              "      <td>133.0</td>\n",
              "      <td>29</td>\n",
              "      <td>5000</td>\n",
              "    </tr>\n",
              "    <tr>\n",
              "      <th>San Jose</th>\n",
              "      <td>137.0</td>\n",
              "      <td>92.0</td>\n",
              "      <td>14</td>\n",
              "      <td>2000</td>\n",
              "    </tr>\n",
              "    <tr>\n",
              "      <th>Santa Clara</th>\n",
              "      <td>162.0</td>\n",
              "      <td>100.0</td>\n",
              "      <td>17</td>\n",
              "      <td>3000</td>\n",
              "    </tr>\n",
              "    <tr>\n",
              "      <th>Saratoga</th>\n",
              "      <td>274.0</td>\n",
              "      <td>97.0</td>\n",
              "      <td>37</td>\n",
              "      <td>3400</td>\n",
              "    </tr>\n",
              "    <tr>\n",
              "      <th>Sunnyvale</th>\n",
              "      <td>122.0</td>\n",
              "      <td>90.0</td>\n",
              "      <td>24</td>\n",
              "      <td>3000</td>\n",
              "    </tr>\n",
              "    <tr>\n",
              "      <th>Unincorporated Areas</th>\n",
              "      <td>251.0</td>\n",
              "      <td>110.0</td>\n",
              "      <td>0</td>\n",
              "      <td>5500</td>\n",
              "    </tr>\n",
              "  </tbody>\n",
              "</table>\n",
              "</div>"
            ],
            "text/plain": [
              "                      price                 \n",
              "                       mean median min   max\n",
              "neighbourhood                               \n",
              "Campbell              169.0  124.0  25  2000\n",
              "Cupertino             153.0  111.0  24  3157\n",
              "Gilroy                153.0   65.0  36  1189\n",
              "Los Altos             198.0  129.0  28  1000\n",
              "Los Altos Hills       295.0  145.0  40  3998\n",
              "Los Gatos             180.0  120.0  39  1000\n",
              "Milpitas              149.0   85.0   0  2222\n",
              "Monte Sereno          190.0  134.0  98  1000\n",
              "Morgan Hill            95.0   80.0  45   180\n",
              "Mountain View         193.0  136.0  24  1200\n",
              "Palo Alto             224.0  133.0  29  5000\n",
              "San Jose              137.0   92.0  14  2000\n",
              "Santa Clara           162.0  100.0  17  3000\n",
              "Saratoga              274.0   97.0  37  3400\n",
              "Sunnyvale             122.0   90.0  24  3000\n",
              "Unincorporated Areas  251.0  110.0   0  5500"
            ]
          },
          "metadata": {
            "tags": []
          },
          "execution_count": 32
        }
      ]
    }
  ]
}