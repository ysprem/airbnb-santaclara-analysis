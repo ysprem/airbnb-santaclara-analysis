{
  "nbformat": 4,
  "nbformat_minor": 0,
  "metadata": {
    "colab": {
      "name": "airbnb-santaclara-county",
      "provenance": [],
      "collapsed_sections": [],
      "mount_file_id": "1QD7Fzit0-vP-ktRRbPZtvkLnQEbPC9pS",
      "authorship_tag": "ABX9TyNV/XtcOCHNlmVVQ6fiRd+T",
      "include_colab_link": true
    },
    "kernelspec": {
      "name": "python3",
      "display_name": "Python 3"
    },
    "language_info": {
      "name": "python"
    }
  },
  "cells": [
    {
      "cell_type": "markdown",
      "metadata": {
        "id": "view-in-github",
        "colab_type": "text"
      },
      "source": [
        "<a href=\"https://colab.research.google.com/github/ysprem/airbnb-santaclara-analysis/blob/main/airbnb_santaclara_county.ipynb\" target=\"_parent\"><img src=\"https://colab.research.google.com/assets/colab-badge.svg\" alt=\"Open In Colab\"/></a>"
      ]
    },
    {
      "cell_type": "code",
      "metadata": {
        "id": "S2A5cgh0w4U3"
      },
      "source": [
        "import pandas as pd\n",
        "import numpy as np\n",
        "import matplotlib.pyplot as plt\n",
        "import seaborn as sns"
      ],
      "execution_count": 39,
      "outputs": []
    },
    {
      "cell_type": "code",
      "metadata": {
        "colab": {
          "base_uri": "https://localhost:8080/"
        },
        "id": "fVLvDmAbF02M",
        "outputId": "0136c928-5962-473b-da35-5fb74e50c8d4"
      },
      "source": [
        "from google.colab import drive\n",
        "drive.mount('/content/gdrive')"
      ],
      "execution_count": 57,
      "outputs": [
        {
          "output_type": "stream",
          "text": [
            "Mounted at /content/gdrive\n"
          ],
          "name": "stdout"
        }
      ]
    },
    {
      "cell_type": "code",
      "metadata": {
        "id": "obOTILfNGAyx"
      },
      "source": [
        "df_listings = pd.read_csv('/content/gdrive/MyDrive/airbnb_santaclara_dataset/listings.csv')\n",
        "df_calendar = pd.read_csv('/content/gdrive/MyDrive/airbnb_santaclara_dataset/calendar.csv')\n",
        "df_neighbourhoods = pd.read_csv('/content/gdrive/MyDrive/airbnb_santaclara_dataset/neighbourhoods.csv')\n",
        "df_reviews = pd.read_csv('/content/gdrive/MyDrive/airbnb_santaclara_dataset/reviews.csv')"
      ],
      "execution_count": 58,
      "outputs": []
    },
    {
      "cell_type": "code",
      "metadata": {
        "colab": {
          "base_uri": "https://localhost:8080/",
          "height": 221
        },
        "id": "DL5L95-QH59q",
        "outputId": "fdbe924f-f6cd-47c6-e5a3-5672b095e7f7"
      },
      "source": [
        "df_listings.head()"
      ],
      "execution_count": 6,
      "outputs": [
        {
          "output_type": "execute_result",
          "data": {
            "text/html": [
              "<div>\n",
              "<style scoped>\n",
              "    .dataframe tbody tr th:only-of-type {\n",
              "        vertical-align: middle;\n",
              "    }\n",
              "\n",
              "    .dataframe tbody tr th {\n",
              "        vertical-align: top;\n",
              "    }\n",
              "\n",
              "    .dataframe thead th {\n",
              "        text-align: right;\n",
              "    }\n",
              "</style>\n",
              "<table border=\"1\" class=\"dataframe\">\n",
              "  <thead>\n",
              "    <tr style=\"text-align: right;\">\n",
              "      <th></th>\n",
              "      <th>id</th>\n",
              "      <th>name</th>\n",
              "      <th>host_id</th>\n",
              "      <th>host_name</th>\n",
              "      <th>neighbourhood_group</th>\n",
              "      <th>neighbourhood</th>\n",
              "      <th>latitude</th>\n",
              "      <th>longitude</th>\n",
              "      <th>room_type</th>\n",
              "      <th>price</th>\n",
              "      <th>minimum_nights</th>\n",
              "      <th>number_of_reviews</th>\n",
              "      <th>last_review</th>\n",
              "      <th>reviews_per_month</th>\n",
              "      <th>calculated_host_listings_count</th>\n",
              "      <th>availability_365</th>\n",
              "    </tr>\n",
              "  </thead>\n",
              "  <tbody>\n",
              "    <tr>\n",
              "      <th>0</th>\n",
              "      <td>11464</td>\n",
              "      <td>Deluxe Studio 5 min.  to SC Kaiser &amp; Apple Park</td>\n",
              "      <td>42458</td>\n",
              "      <td>Emey</td>\n",
              "      <td>NaN</td>\n",
              "      <td>Santa Clara</td>\n",
              "      <td>37.34342</td>\n",
              "      <td>-121.98829</td>\n",
              "      <td>Entire home/apt</td>\n",
              "      <td>75</td>\n",
              "      <td>4</td>\n",
              "      <td>8</td>\n",
              "      <td>2021-01-17</td>\n",
              "      <td>0.10</td>\n",
              "      <td>17</td>\n",
              "      <td>149</td>\n",
              "    </tr>\n",
              "    <tr>\n",
              "      <th>1</th>\n",
              "      <td>21373</td>\n",
              "      <td>Bonsai Garden Inn in Professorville</td>\n",
              "      <td>7054</td>\n",
              "      <td>Mei Lin</td>\n",
              "      <td>NaN</td>\n",
              "      <td>Palo Alto</td>\n",
              "      <td>37.44001</td>\n",
              "      <td>-122.15667</td>\n",
              "      <td>Private room</td>\n",
              "      <td>80</td>\n",
              "      <td>2</td>\n",
              "      <td>264</td>\n",
              "      <td>2020-03-14</td>\n",
              "      <td>2.02</td>\n",
              "      <td>4</td>\n",
              "      <td>226</td>\n",
              "    </tr>\n",
              "    <tr>\n",
              "      <th>2</th>\n",
              "      <td>37512</td>\n",
              "      <td>Private  room - Parking 3 carport</td>\n",
              "      <td>161741</td>\n",
              "      <td>Maria</td>\n",
              "      <td>NaN</td>\n",
              "      <td>San Jose</td>\n",
              "      <td>37.30598</td>\n",
              "      <td>-121.84036</td>\n",
              "      <td>Private room</td>\n",
              "      <td>48</td>\n",
              "      <td>1</td>\n",
              "      <td>183</td>\n",
              "      <td>2017-03-14</td>\n",
              "      <td>1.42</td>\n",
              "      <td>2</td>\n",
              "      <td>236</td>\n",
              "    </tr>\n",
              "    <tr>\n",
              "      <th>3</th>\n",
              "      <td>52786</td>\n",
              "      <td>Cozy Room in A Quiet Community</td>\n",
              "      <td>161741</td>\n",
              "      <td>Maria</td>\n",
              "      <td>NaN</td>\n",
              "      <td>San Jose</td>\n",
              "      <td>37.30521</td>\n",
              "      <td>-121.84149</td>\n",
              "      <td>Private room</td>\n",
              "      <td>50</td>\n",
              "      <td>1</td>\n",
              "      <td>478</td>\n",
              "      <td>2020-03-11</td>\n",
              "      <td>3.80</td>\n",
              "      <td>2</td>\n",
              "      <td>236</td>\n",
              "    </tr>\n",
              "    <tr>\n",
              "      <th>4</th>\n",
              "      <td>62799</td>\n",
              "      <td>Zen Office and Sofa in Palo Alto</td>\n",
              "      <td>7054</td>\n",
              "      <td>Mei Lin</td>\n",
              "      <td>NaN</td>\n",
              "      <td>Palo Alto</td>\n",
              "      <td>37.43925</td>\n",
              "      <td>-122.15617</td>\n",
              "      <td>Private room</td>\n",
              "      <td>100</td>\n",
              "      <td>7</td>\n",
              "      <td>148</td>\n",
              "      <td>2020-03-18</td>\n",
              "      <td>1.81</td>\n",
              "      <td>4</td>\n",
              "      <td>225</td>\n",
              "    </tr>\n",
              "  </tbody>\n",
              "</table>\n",
              "</div>"
            ],
            "text/plain": [
              "      id  ... availability_365\n",
              "0  11464  ...              149\n",
              "1  21373  ...              226\n",
              "2  37512  ...              236\n",
              "3  52786  ...              236\n",
              "4  62799  ...              225\n",
              "\n",
              "[5 rows x 16 columns]"
            ]
          },
          "metadata": {
            "tags": []
          },
          "execution_count": 6
        }
      ]
    },
    {
      "cell_type": "code",
      "metadata": {
        "colab": {
          "base_uri": "https://localhost:8080/",
          "height": 204
        },
        "id": "5H5tWf_kJKNf",
        "outputId": "9415b58a-bac8-4ec2-8e71-9e30b8adfff5"
      },
      "source": [
        "df_calendar.head()"
      ],
      "execution_count": 7,
      "outputs": [
        {
          "output_type": "execute_result",
          "data": {
            "text/html": [
              "<div>\n",
              "<style scoped>\n",
              "    .dataframe tbody tr th:only-of-type {\n",
              "        vertical-align: middle;\n",
              "    }\n",
              "\n",
              "    .dataframe tbody tr th {\n",
              "        vertical-align: top;\n",
              "    }\n",
              "\n",
              "    .dataframe thead th {\n",
              "        text-align: right;\n",
              "    }\n",
              "</style>\n",
              "<table border=\"1\" class=\"dataframe\">\n",
              "  <thead>\n",
              "    <tr style=\"text-align: right;\">\n",
              "      <th></th>\n",
              "      <th>listing_id</th>\n",
              "      <th>date</th>\n",
              "      <th>available</th>\n",
              "      <th>price</th>\n",
              "      <th>adjusted_price</th>\n",
              "      <th>minimum_nights</th>\n",
              "      <th>maximum_nights</th>\n",
              "    </tr>\n",
              "  </thead>\n",
              "  <tbody>\n",
              "    <tr>\n",
              "      <th>0</th>\n",
              "      <td>11464</td>\n",
              "      <td>2021-02-21</td>\n",
              "      <td>f</td>\n",
              "      <td>$75.00</td>\n",
              "      <td>$75.00</td>\n",
              "      <td>4.0</td>\n",
              "      <td>1125.0</td>\n",
              "    </tr>\n",
              "    <tr>\n",
              "      <th>1</th>\n",
              "      <td>917723</td>\n",
              "      <td>2021-02-22</td>\n",
              "      <td>t</td>\n",
              "      <td>$100.00</td>\n",
              "      <td>$100.00</td>\n",
              "      <td>1.0</td>\n",
              "      <td>15.0</td>\n",
              "    </tr>\n",
              "    <tr>\n",
              "      <th>2</th>\n",
              "      <td>917723</td>\n",
              "      <td>2021-02-23</td>\n",
              "      <td>t</td>\n",
              "      <td>$100.00</td>\n",
              "      <td>$100.00</td>\n",
              "      <td>1.0</td>\n",
              "      <td>15.0</td>\n",
              "    </tr>\n",
              "    <tr>\n",
              "      <th>3</th>\n",
              "      <td>917723</td>\n",
              "      <td>2021-02-24</td>\n",
              "      <td>t</td>\n",
              "      <td>$100.00</td>\n",
              "      <td>$100.00</td>\n",
              "      <td>1.0</td>\n",
              "      <td>15.0</td>\n",
              "    </tr>\n",
              "    <tr>\n",
              "      <th>4</th>\n",
              "      <td>917723</td>\n",
              "      <td>2021-02-25</td>\n",
              "      <td>t</td>\n",
              "      <td>$100.00</td>\n",
              "      <td>$100.00</td>\n",
              "      <td>1.0</td>\n",
              "      <td>15.0</td>\n",
              "    </tr>\n",
              "  </tbody>\n",
              "</table>\n",
              "</div>"
            ],
            "text/plain": [
              "   listing_id        date  ... minimum_nights maximum_nights\n",
              "0       11464  2021-02-21  ...            4.0         1125.0\n",
              "1      917723  2021-02-22  ...            1.0           15.0\n",
              "2      917723  2021-02-23  ...            1.0           15.0\n",
              "3      917723  2021-02-24  ...            1.0           15.0\n",
              "4      917723  2021-02-25  ...            1.0           15.0\n",
              "\n",
              "[5 rows x 7 columns]"
            ]
          },
          "metadata": {
            "tags": []
          },
          "execution_count": 7
        }
      ]
    },
    {
      "cell_type": "code",
      "metadata": {
        "colab": {
          "base_uri": "https://localhost:8080/",
          "height": 204
        },
        "id": "-X27txkEJaw-",
        "outputId": "02e6e33f-d282-4371-de9a-c233c0ef6f31"
      },
      "source": [
        "df_reviews.head()"
      ],
      "execution_count": 8,
      "outputs": [
        {
          "output_type": "execute_result",
          "data": {
            "text/html": [
              "<div>\n",
              "<style scoped>\n",
              "    .dataframe tbody tr th:only-of-type {\n",
              "        vertical-align: middle;\n",
              "    }\n",
              "\n",
              "    .dataframe tbody tr th {\n",
              "        vertical-align: top;\n",
              "    }\n",
              "\n",
              "    .dataframe thead th {\n",
              "        text-align: right;\n",
              "    }\n",
              "</style>\n",
              "<table border=\"1\" class=\"dataframe\">\n",
              "  <thead>\n",
              "    <tr style=\"text-align: right;\">\n",
              "      <th></th>\n",
              "      <th>listing_id</th>\n",
              "      <th>date</th>\n",
              "    </tr>\n",
              "  </thead>\n",
              "  <tbody>\n",
              "    <tr>\n",
              "      <th>0</th>\n",
              "      <td>11464</td>\n",
              "      <td>2014-06-15</td>\n",
              "    </tr>\n",
              "    <tr>\n",
              "      <th>1</th>\n",
              "      <td>11464</td>\n",
              "      <td>2014-12-13</td>\n",
              "    </tr>\n",
              "    <tr>\n",
              "      <th>2</th>\n",
              "      <td>11464</td>\n",
              "      <td>2016-08-21</td>\n",
              "    </tr>\n",
              "    <tr>\n",
              "      <th>3</th>\n",
              "      <td>11464</td>\n",
              "      <td>2018-07-28</td>\n",
              "    </tr>\n",
              "    <tr>\n",
              "      <th>4</th>\n",
              "      <td>11464</td>\n",
              "      <td>2018-08-26</td>\n",
              "    </tr>\n",
              "  </tbody>\n",
              "</table>\n",
              "</div>"
            ],
            "text/plain": [
              "   listing_id        date\n",
              "0       11464  2014-06-15\n",
              "1       11464  2014-12-13\n",
              "2       11464  2016-08-21\n",
              "3       11464  2018-07-28\n",
              "4       11464  2018-08-26"
            ]
          },
          "metadata": {
            "tags": []
          },
          "execution_count": 8
        }
      ]
    },
    {
      "cell_type": "markdown",
      "metadata": {
        "id": "ZL9oiARyL-eD"
      },
      "source": [
        "**Which city in Santa Clara county has the most Airbnb listings? Which city has the least number of listings? What type of listings are they? (% of private room listings vs % of entire home listings vs % of shared room listings)**"
      ]
    },
    {
      "cell_type": "code",
      "metadata": {
        "colab": {
          "base_uri": "https://localhost:8080/"
        },
        "id": "ZXWNBU6zMLOZ",
        "outputId": "d7e82c5b-d26d-4afd-ae59-aa34e6a53bc0"
      },
      "source": [
        "df_listings.neighbourhood.value_counts()"
      ],
      "execution_count": 13,
      "outputs": [
        {
          "output_type": "execute_result",
          "data": {
            "text/plain": [
              "San Jose                2127\n",
              "Sunnyvale                556\n",
              "Santa Clara              554\n",
              "Palo Alto                537\n",
              "Mountain View            487\n",
              "Cupertino                229\n",
              "Unincorporated Areas     211\n",
              "Milpitas                 161\n",
              "Campbell                  94\n",
              "Los Altos                 67\n",
              "Los Gatos                 61\n",
              "Saratoga                  58\n",
              "Los Altos Hills           34\n",
              "Morgan Hill               31\n",
              "Gilroy                    19\n",
              "Monte Sereno              16\n",
              "Name: neighbourhood, dtype: int64"
            ]
          },
          "metadata": {
            "tags": []
          },
          "execution_count": 13
        }
      ]
    },
    {
      "cell_type": "code",
      "metadata": {
        "colab": {
          "base_uri": "https://localhost:8080/"
        },
        "id": "H9bO9KF_eJq9",
        "outputId": "1d5c1fd8-2642-438b-80e4-0d1d7665d52a"
      },
      "source": [
        "df_listings.room_type.value_counts()"
      ],
      "execution_count": 14,
      "outputs": [
        {
          "output_type": "execute_result",
          "data": {
            "text/plain": [
              "Entire home/apt    2719\n",
              "Private room       2349\n",
              "Shared room         171\n",
              "Hotel room            3\n",
              "Name: room_type, dtype: int64"
            ]
          },
          "metadata": {
            "tags": []
          },
          "execution_count": 14
        }
      ]
    },
    {
      "cell_type": "code",
      "metadata": {
        "colab": {
          "base_uri": "https://localhost:8080/"
        },
        "id": "gThshIdkHF6V",
        "outputId": "7697400b-9abc-4681-9b31-deae3bfd6740"
      },
      "source": [
        "!pip install pandasql"
      ],
      "execution_count": 10,
      "outputs": [
        {
          "output_type": "stream",
          "text": [
            "Collecting pandasql\n",
            "  Downloading https://files.pythonhosted.org/packages/6b/c4/ee4096ffa2eeeca0c749b26f0371bd26aa5c8b611c43de99a4f86d3de0a7/pandasql-0.7.3.tar.gz\n",
            "Requirement already satisfied: numpy in /usr/local/lib/python3.7/dist-packages (from pandasql) (1.19.5)\n",
            "Requirement already satisfied: pandas in /usr/local/lib/python3.7/dist-packages (from pandasql) (1.1.5)\n",
            "Requirement already satisfied: sqlalchemy in /usr/local/lib/python3.7/dist-packages (from pandasql) (1.4.3)\n",
            "Requirement already satisfied: pytz>=2017.2 in /usr/local/lib/python3.7/dist-packages (from pandas->pandasql) (2018.9)\n",
            "Requirement already satisfied: python-dateutil>=2.7.3 in /usr/local/lib/python3.7/dist-packages (from pandas->pandasql) (2.8.1)\n",
            "Requirement already satisfied: importlib-metadata; python_version < \"3.8\" in /usr/local/lib/python3.7/dist-packages (from sqlalchemy->pandasql) (3.8.1)\n",
            "Requirement already satisfied: greenlet!=0.4.17; python_version >= \"3\" in /usr/local/lib/python3.7/dist-packages (from sqlalchemy->pandasql) (1.0.0)\n",
            "Requirement already satisfied: six>=1.5 in /usr/local/lib/python3.7/dist-packages (from python-dateutil>=2.7.3->pandas->pandasql) (1.15.0)\n",
            "Requirement already satisfied: zipp>=0.5 in /usr/local/lib/python3.7/dist-packages (from importlib-metadata; python_version < \"3.8\"->sqlalchemy->pandasql) (3.4.1)\n",
            "Requirement already satisfied: typing-extensions>=3.6.4; python_version < \"3.8\" in /usr/local/lib/python3.7/dist-packages (from importlib-metadata; python_version < \"3.8\"->sqlalchemy->pandasql) (3.7.4.3)\n",
            "Building wheels for collected packages: pandasql\n",
            "  Building wheel for pandasql (setup.py) ... \u001b[?25l\u001b[?25hdone\n",
            "  Created wheel for pandasql: filename=pandasql-0.7.3-cp37-none-any.whl size=26820 sha256=3a6c1c5f507fa695249d5fee108a29bdfae3b6fdfb615c6419cc833a0cbaa885\n",
            "  Stored in directory: /root/.cache/pip/wheels/53/6c/18/b87a2e5fa8a82e9c026311de56210b8d1c01846e18a9607fc9\n",
            "Successfully built pandasql\n",
            "Installing collected packages: pandasql\n",
            "Successfully installed pandasql-0.7.3\n"
          ],
          "name": "stdout"
        }
      ]
    },
    {
      "cell_type": "code",
      "metadata": {
        "id": "KHgpefHXMqGo"
      },
      "source": [
        "from pandasql import sqldf"
      ],
      "execution_count": 11,
      "outputs": []
    },
    {
      "cell_type": "code",
      "metadata": {
        "id": "tmleMrcvM1rl"
      },
      "source": [
        "result1 = sqldf(\"SELECT neighbourhood, num_listings, entire_home*100/num_listings AS entire_home_perc, private_room*100/num_listings AS private_room_perc, shared_room*100/num_listings AS shared_room_perc FROM (SELECT neighbourhood, COUNT(id) AS num_listings, SUM(CASE WHEN room_type LIKE 'Entire home/apt' THEN 1 ELSE 0 END) AS entire_home, SUM(CASE WHEN room_type LIKE 'Private room' THEN 1 ELSE 0 END) AS private_room, SUM(CASE WHEN room_type LIKE 'Shared room' THEN 1 ELSE 0 END) AS shared_room FROM df_listings GROUP BY neighbourhood)\")"
      ],
      "execution_count": 38,
      "outputs": []
    },
    {
      "cell_type": "code",
      "metadata": {
        "colab": {
          "base_uri": "https://localhost:8080/",
          "height": 425
        },
        "id": "OTIv4iAIRY0R",
        "outputId": "7e3428fe-a932-4457-db4f-5fc967014818"
      },
      "source": [
        "from google.colab import data_table\n",
        "data_table.DataTable(result1, include_index=False)"
      ],
      "execution_count": 37,
      "outputs": [
        {
          "output_type": "execute_result",
          "data": {
            "application/vnd.google.colaboratory.module+javascript": "\n      import \"https://ssl.gstatic.com/colaboratory/data_table/a6224c040fa35dcf/data_table.js\";\n\n      window.createDataTable({\n        data: [[\"Campbell\",\n{\n            'v': 94,\n            'f': \"94\",\n        },\n{\n            'v': 59,\n            'f': \"59\",\n        },\n{\n            'v': 38,\n            'f': \"38\",\n        },\n{\n            'v': 2,\n            'f': \"2\",\n        }],\n [\"Cupertino\",\n{\n            'v': 229,\n            'f': \"229\",\n        },\n{\n            'v': 53,\n            'f': \"53\",\n        },\n{\n            'v': 43,\n            'f': \"43\",\n        },\n{\n            'v': 3,\n            'f': \"3\",\n        }],\n [\"Gilroy\",\n{\n            'v': 19,\n            'f': \"19\",\n        },\n{\n            'v': 10,\n            'f': \"10\",\n        },\n{\n            'v': 89,\n            'f': \"89\",\n        },\n{\n            'v': 0,\n            'f': \"0\",\n        }],\n [\"Los Altos\",\n{\n            'v': 67,\n            'f': \"67\",\n        },\n{\n            'v': 53,\n            'f': \"53\",\n        },\n{\n            'v': 40,\n            'f': \"40\",\n        },\n{\n            'v': 5,\n            'f': \"5\",\n        }],\n [\"Los Altos Hills\",\n{\n            'v': 34,\n            'f': \"34\",\n        },\n{\n            'v': 44,\n            'f': \"44\",\n        },\n{\n            'v': 44,\n            'f': \"44\",\n        },\n{\n            'v': 11,\n            'f': \"11\",\n        }],\n [\"Los Gatos\",\n{\n            'v': 61,\n            'f': \"61\",\n        },\n{\n            'v': 54,\n            'f': \"54\",\n        },\n{\n            'v': 45,\n            'f': \"45\",\n        },\n{\n            'v': 0,\n            'f': \"0\",\n        }],\n [\"Milpitas\",\n{\n            'v': 161,\n            'f': \"161\",\n        },\n{\n            'v': 32,\n            'f': \"32\",\n        },\n{\n            'v': 61,\n            'f': \"61\",\n        },\n{\n            'v': 5,\n            'f': \"5\",\n        }],\n [\"Monte Sereno\",\n{\n            'v': 16,\n            'f': \"16\",\n        },\n{\n            'v': 93,\n            'f': \"93\",\n        },\n{\n            'v': 6,\n            'f': \"6\",\n        },\n{\n            'v': 0,\n            'f': \"0\",\n        }],\n [\"Morgan Hill\",\n{\n            'v': 31,\n            'f': \"31\",\n        },\n{\n            'v': 22,\n            'f': \"22\",\n        },\n{\n            'v': 77,\n            'f': \"77\",\n        },\n{\n            'v': 0,\n            'f': \"0\",\n        }],\n [\"Mountain View\",\n{\n            'v': 487,\n            'f': \"487\",\n        },\n{\n            'v': 69,\n            'f': \"69\",\n        },\n{\n            'v': 27,\n            'f': \"27\",\n        },\n{\n            'v': 3,\n            'f': \"3\",\n        }],\n [\"Palo Alto\",\n{\n            'v': 537,\n            'f': \"537\",\n        },\n{\n            'v': 63,\n            'f': \"63\",\n        },\n{\n            'v': 34,\n            'f': \"34\",\n        },\n{\n            'v': 1,\n            'f': \"1\",\n        }],\n [\"San Jose\",\n{\n            'v': 2127,\n            'f': \"2127\",\n        },\n{\n            'v': 46,\n            'f': \"46\",\n        },\n{\n            'v': 50,\n            'f': \"50\",\n        },\n{\n            'v': 2,\n            'f': \"2\",\n        }],\n [\"Santa Clara\",\n{\n            'v': 554,\n            'f': \"554\",\n        },\n{\n            'v': 50,\n            'f': \"50\",\n        },\n{\n            'v': 42,\n            'f': \"42\",\n        },\n{\n            'v': 6,\n            'f': \"6\",\n        }],\n [\"Saratoga\",\n{\n            'v': 58,\n            'f': \"58\",\n        },\n{\n            'v': 46,\n            'f': \"46\",\n        },\n{\n            'v': 53,\n            'f': \"53\",\n        },\n{\n            'v': 0,\n            'f': \"0\",\n        }],\n [\"Sunnyvale\",\n{\n            'v': 556,\n            'f': \"556\",\n        },\n{\n            'v': 47,\n            'f': \"47\",\n        },\n{\n            'v': 46,\n            'f': \"46\",\n        },\n{\n            'v': 5,\n            'f': \"5\",\n        }],\n [\"Unincorporated Areas\",\n{\n            'v': 211,\n            'f': \"211\",\n        },\n{\n            'v': 64,\n            'f': \"64\",\n        },\n{\n            'v': 34,\n            'f': \"34\",\n        },\n{\n            'v': 0,\n            'f': \"0\",\n        }]],\n        columns: [[\"string\", \"neighbourhood\"], [\"number\", \"num_listings\"], [\"number\", \"entire_home_perc\"], [\"number\", \"private_room_perc\"], [\"number\", \"shared_room_perc\"]],\n        columnOptions: [],\n        rowsPerPage: 25,\n        helpUrl: \"https://colab.research.google.com/notebooks/data_table.ipynb\",\n        suppressOutputScrolling: true,\n        minimumWidth: undefined,\n      });\n    ",
            "text/plain": [
              "<google.colab.data_table.DataTable object>"
            ],
            "text/html": [
              "<div>\n",
              "<style scoped>\n",
              "    .dataframe tbody tr th:only-of-type {\n",
              "        vertical-align: middle;\n",
              "    }\n",
              "\n",
              "    .dataframe tbody tr th {\n",
              "        vertical-align: top;\n",
              "    }\n",
              "\n",
              "    .dataframe thead th {\n",
              "        text-align: right;\n",
              "    }\n",
              "</style>\n",
              "<table border=\"1\" class=\"dataframe\">\n",
              "  <thead>\n",
              "    <tr style=\"text-align: right;\">\n",
              "      <th></th>\n",
              "      <th>neighbourhood</th>\n",
              "      <th>num_listings</th>\n",
              "      <th>entire_home_perc</th>\n",
              "      <th>private_room_perc</th>\n",
              "      <th>shared_room_perc</th>\n",
              "    </tr>\n",
              "  </thead>\n",
              "  <tbody>\n",
              "    <tr>\n",
              "      <th>0</th>\n",
              "      <td>Campbell</td>\n",
              "      <td>94</td>\n",
              "      <td>59</td>\n",
              "      <td>38</td>\n",
              "      <td>2</td>\n",
              "    </tr>\n",
              "    <tr>\n",
              "      <th>1</th>\n",
              "      <td>Cupertino</td>\n",
              "      <td>229</td>\n",
              "      <td>53</td>\n",
              "      <td>43</td>\n",
              "      <td>3</td>\n",
              "    </tr>\n",
              "    <tr>\n",
              "      <th>2</th>\n",
              "      <td>Gilroy</td>\n",
              "      <td>19</td>\n",
              "      <td>10</td>\n",
              "      <td>89</td>\n",
              "      <td>0</td>\n",
              "    </tr>\n",
              "    <tr>\n",
              "      <th>3</th>\n",
              "      <td>Los Altos</td>\n",
              "      <td>67</td>\n",
              "      <td>53</td>\n",
              "      <td>40</td>\n",
              "      <td>5</td>\n",
              "    </tr>\n",
              "    <tr>\n",
              "      <th>4</th>\n",
              "      <td>Los Altos Hills</td>\n",
              "      <td>34</td>\n",
              "      <td>44</td>\n",
              "      <td>44</td>\n",
              "      <td>11</td>\n",
              "    </tr>\n",
              "    <tr>\n",
              "      <th>5</th>\n",
              "      <td>Los Gatos</td>\n",
              "      <td>61</td>\n",
              "      <td>54</td>\n",
              "      <td>45</td>\n",
              "      <td>0</td>\n",
              "    </tr>\n",
              "    <tr>\n",
              "      <th>6</th>\n",
              "      <td>Milpitas</td>\n",
              "      <td>161</td>\n",
              "      <td>32</td>\n",
              "      <td>61</td>\n",
              "      <td>5</td>\n",
              "    </tr>\n",
              "    <tr>\n",
              "      <th>7</th>\n",
              "      <td>Monte Sereno</td>\n",
              "      <td>16</td>\n",
              "      <td>93</td>\n",
              "      <td>6</td>\n",
              "      <td>0</td>\n",
              "    </tr>\n",
              "    <tr>\n",
              "      <th>8</th>\n",
              "      <td>Morgan Hill</td>\n",
              "      <td>31</td>\n",
              "      <td>22</td>\n",
              "      <td>77</td>\n",
              "      <td>0</td>\n",
              "    </tr>\n",
              "    <tr>\n",
              "      <th>9</th>\n",
              "      <td>Mountain View</td>\n",
              "      <td>487</td>\n",
              "      <td>69</td>\n",
              "      <td>27</td>\n",
              "      <td>3</td>\n",
              "    </tr>\n",
              "    <tr>\n",
              "      <th>10</th>\n",
              "      <td>Palo Alto</td>\n",
              "      <td>537</td>\n",
              "      <td>63</td>\n",
              "      <td>34</td>\n",
              "      <td>1</td>\n",
              "    </tr>\n",
              "    <tr>\n",
              "      <th>11</th>\n",
              "      <td>San Jose</td>\n",
              "      <td>2127</td>\n",
              "      <td>46</td>\n",
              "      <td>50</td>\n",
              "      <td>2</td>\n",
              "    </tr>\n",
              "    <tr>\n",
              "      <th>12</th>\n",
              "      <td>Santa Clara</td>\n",
              "      <td>554</td>\n",
              "      <td>50</td>\n",
              "      <td>42</td>\n",
              "      <td>6</td>\n",
              "    </tr>\n",
              "    <tr>\n",
              "      <th>13</th>\n",
              "      <td>Saratoga</td>\n",
              "      <td>58</td>\n",
              "      <td>46</td>\n",
              "      <td>53</td>\n",
              "      <td>0</td>\n",
              "    </tr>\n",
              "    <tr>\n",
              "      <th>14</th>\n",
              "      <td>Sunnyvale</td>\n",
              "      <td>556</td>\n",
              "      <td>47</td>\n",
              "      <td>46</td>\n",
              "      <td>5</td>\n",
              "    </tr>\n",
              "    <tr>\n",
              "      <th>15</th>\n",
              "      <td>Unincorporated Areas</td>\n",
              "      <td>211</td>\n",
              "      <td>64</td>\n",
              "      <td>34</td>\n",
              "      <td>0</td>\n",
              "    </tr>\n",
              "  </tbody>\n",
              "</table>\n",
              "</div>"
            ]
          },
          "metadata": {
            "tags": []
          },
          "execution_count": 37
        }
      ]
    },
    {
      "cell_type": "code",
      "metadata": {
        "id": "8DqooFGa-HfH"
      },
      "source": [
        "df = pd.DataFrame({'mass': [0.330, 4.87 , 5.97],\n",
        "                   'radius': [2439.7, 6051.8, 6378.1]},\n",
        "                  index=['Mercury', 'Venus', 'Earth'])\n",
        "plot = result1.plot.pie(y='neighbourhood', figsize=(5, 5))\n",
        "plot = df.plot.pie(subplots=True, figsize=(11, 6))"
      ],
      "execution_count": null,
      "outputs": []
    },
    {
      "cell_type": "markdown",
      "metadata": {
        "id": "Eh8rwW_bU51H"
      },
      "source": [
        "**Which city has received the most number of reviews from visitors? Which city has received the least? (This correlates with volume of vistors roughly) Which city has the most reviews on average per listing? (This correlates with user engagement on an average for the city, indicating whether the city has high quality or low quality listings)**"
      ]
    },
    {
      "cell_type": "code",
      "metadata": {
        "colab": {
          "base_uri": "https://localhost:8080/",
          "height": 425
        },
        "id": "KfLGOcI1XJZl",
        "outputId": "2bdbde14-f7eb-4b0b-9097-7cd5b3a5d520"
      },
      "source": [
        "result2 = sqldf(\"SELECT neighbourhood, COUNT(id) AS num_listings, SUM(number_of_reviews) AS num_reviews,  SUM(number_of_reviews)/COUNT(id) AS avg_reviews_per_listing FROM df_listings GROUP BY neighbourhood\")\n",
        "data_table.DataTable(result2, include_index=False)"
      ],
      "execution_count": 40,
      "outputs": [
        {
          "output_type": "execute_result",
          "data": {
            "application/vnd.google.colaboratory.module+javascript": "\n      import \"https://ssl.gstatic.com/colaboratory/data_table/a6224c040fa35dcf/data_table.js\";\n\n      window.createDataTable({\n        data: [[\"Campbell\",\n{\n            'v': 94,\n            'f': \"94\",\n        },\n{\n            'v': 3160,\n            'f': \"3160\",\n        },\n{\n            'v': 33,\n            'f': \"33\",\n        }],\n [\"Cupertino\",\n{\n            'v': 229,\n            'f': \"229\",\n        },\n{\n            'v': 5205,\n            'f': \"5205\",\n        },\n{\n            'v': 22,\n            'f': \"22\",\n        }],\n [\"Gilroy\",\n{\n            'v': 19,\n            'f': \"19\",\n        },\n{\n            'v': 336,\n            'f': \"336\",\n        },\n{\n            'v': 17,\n            'f': \"17\",\n        }],\n [\"Los Altos\",\n{\n            'v': 67,\n            'f': \"67\",\n        },\n{\n            'v': 2066,\n            'f': \"2066\",\n        },\n{\n            'v': 30,\n            'f': \"30\",\n        }],\n [\"Los Altos Hills\",\n{\n            'v': 34,\n            'f': \"34\",\n        },\n{\n            'v': 1589,\n            'f': \"1589\",\n        },\n{\n            'v': 46,\n            'f': \"46\",\n        }],\n [\"Los Gatos\",\n{\n            'v': 61,\n            'f': \"61\",\n        },\n{\n            'v': 2432,\n            'f': \"2432\",\n        },\n{\n            'v': 39,\n            'f': \"39\",\n        }],\n [\"Milpitas\",\n{\n            'v': 161,\n            'f': \"161\",\n        },\n{\n            'v': 3189,\n            'f': \"3189\",\n        },\n{\n            'v': 19,\n            'f': \"19\",\n        }],\n [\"Monte Sereno\",\n{\n            'v': 16,\n            'f': \"16\",\n        },\n{\n            'v': 885,\n            'f': \"885\",\n        },\n{\n            'v': 55,\n            'f': \"55\",\n        }],\n [\"Morgan Hill\",\n{\n            'v': 31,\n            'f': \"31\",\n        },\n{\n            'v': 446,\n            'f': \"446\",\n        },\n{\n            'v': 14,\n            'f': \"14\",\n        }],\n [\"Mountain View\",\n{\n            'v': 487,\n            'f': \"487\",\n        },\n{\n            'v': 13985,\n            'f': \"13985\",\n        },\n{\n            'v': 28,\n            'f': \"28\",\n        }],\n [\"Palo Alto\",\n{\n            'v': 537,\n            'f': \"537\",\n        },\n{\n            'v': 19564,\n            'f': \"19564\",\n        },\n{\n            'v': 36,\n            'f': \"36\",\n        }],\n [\"San Jose\",\n{\n            'v': 2127,\n            'f': \"2127\",\n        },\n{\n            'v': 69478,\n            'f': \"69478\",\n        },\n{\n            'v': 32,\n            'f': \"32\",\n        }],\n [\"Santa Clara\",\n{\n            'v': 554,\n            'f': \"554\",\n        },\n{\n            'v': 13288,\n            'f': \"13288\",\n        },\n{\n            'v': 23,\n            'f': \"23\",\n        }],\n [\"Saratoga\",\n{\n            'v': 58,\n            'f': \"58\",\n        },\n{\n            'v': 1557,\n            'f': \"1557\",\n        },\n{\n            'v': 26,\n            'f': \"26\",\n        }],\n [\"Sunnyvale\",\n{\n            'v': 556,\n            'f': \"556\",\n        },\n{\n            'v': 13422,\n            'f': \"13422\",\n        },\n{\n            'v': 24,\n            'f': \"24\",\n        }],\n [\"Unincorporated Areas\",\n{\n            'v': 211,\n            'f': \"211\",\n        },\n{\n            'v': 11980,\n            'f': \"11980\",\n        },\n{\n            'v': 56,\n            'f': \"56\",\n        }]],\n        columns: [[\"string\", \"neighbourhood\"], [\"number\", \"num_listings\"], [\"number\", \"num_reviews\"], [\"number\", \"avg_reviews_per_listing\"]],\n        columnOptions: [],\n        rowsPerPage: 25,\n        helpUrl: \"https://colab.research.google.com/notebooks/data_table.ipynb\",\n        suppressOutputScrolling: true,\n        minimumWidth: undefined,\n      });\n    ",
            "text/plain": [
              "<google.colab.data_table.DataTable object>"
            ],
            "text/html": [
              "<div>\n",
              "<style scoped>\n",
              "    .dataframe tbody tr th:only-of-type {\n",
              "        vertical-align: middle;\n",
              "    }\n",
              "\n",
              "    .dataframe tbody tr th {\n",
              "        vertical-align: top;\n",
              "    }\n",
              "\n",
              "    .dataframe thead th {\n",
              "        text-align: right;\n",
              "    }\n",
              "</style>\n",
              "<table border=\"1\" class=\"dataframe\">\n",
              "  <thead>\n",
              "    <tr style=\"text-align: right;\">\n",
              "      <th></th>\n",
              "      <th>neighbourhood</th>\n",
              "      <th>num_listings</th>\n",
              "      <th>num_reviews</th>\n",
              "      <th>avg_reviews_per_listing</th>\n",
              "    </tr>\n",
              "  </thead>\n",
              "  <tbody>\n",
              "    <tr>\n",
              "      <th>0</th>\n",
              "      <td>Campbell</td>\n",
              "      <td>94</td>\n",
              "      <td>3160</td>\n",
              "      <td>33</td>\n",
              "    </tr>\n",
              "    <tr>\n",
              "      <th>1</th>\n",
              "      <td>Cupertino</td>\n",
              "      <td>229</td>\n",
              "      <td>5205</td>\n",
              "      <td>22</td>\n",
              "    </tr>\n",
              "    <tr>\n",
              "      <th>2</th>\n",
              "      <td>Gilroy</td>\n",
              "      <td>19</td>\n",
              "      <td>336</td>\n",
              "      <td>17</td>\n",
              "    </tr>\n",
              "    <tr>\n",
              "      <th>3</th>\n",
              "      <td>Los Altos</td>\n",
              "      <td>67</td>\n",
              "      <td>2066</td>\n",
              "      <td>30</td>\n",
              "    </tr>\n",
              "    <tr>\n",
              "      <th>4</th>\n",
              "      <td>Los Altos Hills</td>\n",
              "      <td>34</td>\n",
              "      <td>1589</td>\n",
              "      <td>46</td>\n",
              "    </tr>\n",
              "    <tr>\n",
              "      <th>5</th>\n",
              "      <td>Los Gatos</td>\n",
              "      <td>61</td>\n",
              "      <td>2432</td>\n",
              "      <td>39</td>\n",
              "    </tr>\n",
              "    <tr>\n",
              "      <th>6</th>\n",
              "      <td>Milpitas</td>\n",
              "      <td>161</td>\n",
              "      <td>3189</td>\n",
              "      <td>19</td>\n",
              "    </tr>\n",
              "    <tr>\n",
              "      <th>7</th>\n",
              "      <td>Monte Sereno</td>\n",
              "      <td>16</td>\n",
              "      <td>885</td>\n",
              "      <td>55</td>\n",
              "    </tr>\n",
              "    <tr>\n",
              "      <th>8</th>\n",
              "      <td>Morgan Hill</td>\n",
              "      <td>31</td>\n",
              "      <td>446</td>\n",
              "      <td>14</td>\n",
              "    </tr>\n",
              "    <tr>\n",
              "      <th>9</th>\n",
              "      <td>Mountain View</td>\n",
              "      <td>487</td>\n",
              "      <td>13985</td>\n",
              "      <td>28</td>\n",
              "    </tr>\n",
              "    <tr>\n",
              "      <th>10</th>\n",
              "      <td>Palo Alto</td>\n",
              "      <td>537</td>\n",
              "      <td>19564</td>\n",
              "      <td>36</td>\n",
              "    </tr>\n",
              "    <tr>\n",
              "      <th>11</th>\n",
              "      <td>San Jose</td>\n",
              "      <td>2127</td>\n",
              "      <td>69478</td>\n",
              "      <td>32</td>\n",
              "    </tr>\n",
              "    <tr>\n",
              "      <th>12</th>\n",
              "      <td>Santa Clara</td>\n",
              "      <td>554</td>\n",
              "      <td>13288</td>\n",
              "      <td>23</td>\n",
              "    </tr>\n",
              "    <tr>\n",
              "      <th>13</th>\n",
              "      <td>Saratoga</td>\n",
              "      <td>58</td>\n",
              "      <td>1557</td>\n",
              "      <td>26</td>\n",
              "    </tr>\n",
              "    <tr>\n",
              "      <th>14</th>\n",
              "      <td>Sunnyvale</td>\n",
              "      <td>556</td>\n",
              "      <td>13422</td>\n",
              "      <td>24</td>\n",
              "    </tr>\n",
              "    <tr>\n",
              "      <th>15</th>\n",
              "      <td>Unincorporated Areas</td>\n",
              "      <td>211</td>\n",
              "      <td>11980</td>\n",
              "      <td>56</td>\n",
              "    </tr>\n",
              "  </tbody>\n",
              "</table>\n",
              "</div>"
            ]
          },
          "metadata": {
            "tags": []
          },
          "execution_count": 40
        }
      ]
    },
    {
      "cell_type": "markdown",
      "metadata": {
        "id": "lclTbqmqds8w"
      },
      "source": [
        "**In which month do we see a spike in reviews during the year?**"
      ]
    },
    {
      "cell_type": "code",
      "metadata": {
        "id": "MorTVPJmk3rn"
      },
      "source": [
        "import calendar\n",
        "df_reviews['month'] = pd.DatetimeIndex(df_reviews['date']).month\n",
        "df_reviews['month_name'] = df_reviews['month'].apply(lambda x: calendar.month_abbr[x])\n",
        "df_reviews.rename(columns={'listing_id': 'id'}, inplace=True)\n",
        "df_reviews.sort_values(by=['month'], inplace=True)"
      ],
      "execution_count": 15,
      "outputs": []
    },
    {
      "cell_type": "code",
      "metadata": {
        "colab": {
          "base_uri": "https://localhost:8080/",
          "height": 204
        },
        "id": "1myaTq38lNb-",
        "outputId": "dbd3dd0b-9329-404c-e2a2-b97196a158c2"
      },
      "source": [
        "df_reviews.head()"
      ],
      "execution_count": 16,
      "outputs": [
        {
          "output_type": "execute_result",
          "data": {
            "text/html": [
              "<div>\n",
              "<style scoped>\n",
              "    .dataframe tbody tr th:only-of-type {\n",
              "        vertical-align: middle;\n",
              "    }\n",
              "\n",
              "    .dataframe tbody tr th {\n",
              "        vertical-align: top;\n",
              "    }\n",
              "\n",
              "    .dataframe thead th {\n",
              "        text-align: right;\n",
              "    }\n",
              "</style>\n",
              "<table border=\"1\" class=\"dataframe\">\n",
              "  <thead>\n",
              "    <tr style=\"text-align: right;\">\n",
              "      <th></th>\n",
              "      <th>id</th>\n",
              "      <th>date</th>\n",
              "      <th>month</th>\n",
              "      <th>month_name</th>\n",
              "    </tr>\n",
              "  </thead>\n",
              "  <tbody>\n",
              "    <tr>\n",
              "      <th>68404</th>\n",
              "      <td>14697853</td>\n",
              "      <td>2019-01-06</td>\n",
              "      <td>1</td>\n",
              "      <td>Jan</td>\n",
              "    </tr>\n",
              "    <tr>\n",
              "      <th>103943</th>\n",
              "      <td>21566372</td>\n",
              "      <td>2021-01-09</td>\n",
              "      <td>1</td>\n",
              "      <td>Jan</td>\n",
              "    </tr>\n",
              "    <tr>\n",
              "      <th>103944</th>\n",
              "      <td>21566372</td>\n",
              "      <td>2021-01-11</td>\n",
              "      <td>1</td>\n",
              "      <td>Jan</td>\n",
              "    </tr>\n",
              "    <tr>\n",
              "      <th>103945</th>\n",
              "      <td>21566372</td>\n",
              "      <td>2021-01-22</td>\n",
              "      <td>1</td>\n",
              "      <td>Jan</td>\n",
              "    </tr>\n",
              "    <tr>\n",
              "      <th>142252</th>\n",
              "      <td>33271915</td>\n",
              "      <td>2020-01-30</td>\n",
              "      <td>1</td>\n",
              "      <td>Jan</td>\n",
              "    </tr>\n",
              "  </tbody>\n",
              "</table>\n",
              "</div>"
            ],
            "text/plain": [
              "              id        date  month month_name\n",
              "68404   14697853  2019-01-06      1        Jan\n",
              "103943  21566372  2021-01-09      1        Jan\n",
              "103944  21566372  2021-01-11      1        Jan\n",
              "103945  21566372  2021-01-22      1        Jan\n",
              "142252  33271915  2020-01-30      1        Jan"
            ]
          },
          "metadata": {
            "tags": []
          },
          "execution_count": 16
        }
      ]
    },
    {
      "cell_type": "code",
      "metadata": {
        "colab": {
          "base_uri": "https://localhost:8080/",
          "height": 341
        },
        "id": "rlB3YfGUtYz2",
        "outputId": "c324f564-7164-40b5-ab6b-30def9ea5580"
      },
      "source": [
        "result3 = sqldf(\"SELECT month_name, COUNT(*) AS num_reviews FROM df_reviews GROUP BY month\")\n",
        "data_table.DataTable(result3, include_index=False)"
      ],
      "execution_count": 41,
      "outputs": [
        {
          "output_type": "execute_result",
          "data": {
            "application/vnd.google.colaboratory.module+javascript": "\n      import \"https://ssl.gstatic.com/colaboratory/data_table/a6224c040fa35dcf/data_table.js\";\n\n      window.createDataTable({\n        data: [[\"Jan\",\n{\n            'v': 13413,\n            'f': \"13413\",\n        }],\n [\"Feb\",\n{\n            'v': 12893,\n            'f': \"12893\",\n        }],\n [\"Mar\",\n{\n            'v': 12136,\n            'f': \"12136\",\n        }],\n [\"Apr\",\n{\n            'v': 9497,\n            'f': \"9497\",\n        }],\n [\"May\",\n{\n            'v': 13158,\n            'f': \"13158\",\n        }],\n [\"Jun\",\n{\n            'v': 13380,\n            'f': \"13380\",\n        }],\n [\"Jul\",\n{\n            'v': 13095,\n            'f': \"13095\",\n        }],\n [\"Aug\",\n{\n            'v': 15787,\n            'f': \"15787\",\n        }],\n [\"Sep\",\n{\n            'v': 15846,\n            'f': \"15846\",\n        }],\n [\"Oct\",\n{\n            'v': 16706,\n            'f': \"16706\",\n        }],\n [\"Nov\",\n{\n            'v': 14591,\n            'f': \"14591\",\n        }],\n [\"Dec\",\n{\n            'v': 12080,\n            'f': \"12080\",\n        }]],\n        columns: [[\"string\", \"month_name\"], [\"number\", \"num_reviews\"]],\n        columnOptions: [],\n        rowsPerPage: 25,\n        helpUrl: \"https://colab.research.google.com/notebooks/data_table.ipynb\",\n        suppressOutputScrolling: true,\n        minimumWidth: undefined,\n      });\n    ",
            "text/plain": [
              "<google.colab.data_table.DataTable object>"
            ],
            "text/html": [
              "<div>\n",
              "<style scoped>\n",
              "    .dataframe tbody tr th:only-of-type {\n",
              "        vertical-align: middle;\n",
              "    }\n",
              "\n",
              "    .dataframe tbody tr th {\n",
              "        vertical-align: top;\n",
              "    }\n",
              "\n",
              "    .dataframe thead th {\n",
              "        text-align: right;\n",
              "    }\n",
              "</style>\n",
              "<table border=\"1\" class=\"dataframe\">\n",
              "  <thead>\n",
              "    <tr style=\"text-align: right;\">\n",
              "      <th></th>\n",
              "      <th>month_name</th>\n",
              "      <th>num_reviews</th>\n",
              "    </tr>\n",
              "  </thead>\n",
              "  <tbody>\n",
              "    <tr>\n",
              "      <th>0</th>\n",
              "      <td>Jan</td>\n",
              "      <td>13413</td>\n",
              "    </tr>\n",
              "    <tr>\n",
              "      <th>1</th>\n",
              "      <td>Feb</td>\n",
              "      <td>12893</td>\n",
              "    </tr>\n",
              "    <tr>\n",
              "      <th>2</th>\n",
              "      <td>Mar</td>\n",
              "      <td>12136</td>\n",
              "    </tr>\n",
              "    <tr>\n",
              "      <th>3</th>\n",
              "      <td>Apr</td>\n",
              "      <td>9497</td>\n",
              "    </tr>\n",
              "    <tr>\n",
              "      <th>4</th>\n",
              "      <td>May</td>\n",
              "      <td>13158</td>\n",
              "    </tr>\n",
              "    <tr>\n",
              "      <th>5</th>\n",
              "      <td>Jun</td>\n",
              "      <td>13380</td>\n",
              "    </tr>\n",
              "    <tr>\n",
              "      <th>6</th>\n",
              "      <td>Jul</td>\n",
              "      <td>13095</td>\n",
              "    </tr>\n",
              "    <tr>\n",
              "      <th>7</th>\n",
              "      <td>Aug</td>\n",
              "      <td>15787</td>\n",
              "    </tr>\n",
              "    <tr>\n",
              "      <th>8</th>\n",
              "      <td>Sep</td>\n",
              "      <td>15846</td>\n",
              "    </tr>\n",
              "    <tr>\n",
              "      <th>9</th>\n",
              "      <td>Oct</td>\n",
              "      <td>16706</td>\n",
              "    </tr>\n",
              "    <tr>\n",
              "      <th>10</th>\n",
              "      <td>Nov</td>\n",
              "      <td>14591</td>\n",
              "    </tr>\n",
              "    <tr>\n",
              "      <th>11</th>\n",
              "      <td>Dec</td>\n",
              "      <td>12080</td>\n",
              "    </tr>\n",
              "  </tbody>\n",
              "</table>\n",
              "</div>"
            ]
          },
          "metadata": {
            "tags": []
          },
          "execution_count": 41
        }
      ]
    },
    {
      "cell_type": "code",
      "metadata": {
        "colab": {
          "base_uri": "https://localhost:8080/",
          "height": 299
        },
        "id": "QgXQ3KqYzJR5",
        "outputId": "3f50e6dc-2dd3-4cfa-f681-fcbb16a08215"
      },
      "source": [
        "sns.lineplot(data=result3, x='month_name', y='num_reviews')"
      ],
      "execution_count": 20,
      "outputs": [
        {
          "output_type": "execute_result",
          "data": {
            "text/plain": [
              "<matplotlib.axes._subplots.AxesSubplot at 0x7f7630288890>"
            ]
          },
          "metadata": {
            "tags": []
          },
          "execution_count": 20
        },
        {
          "output_type": "display_data",
          "data": {
            "image/png": "[encoded data removed]",
            "text/plain": [
              "<Figure size 432x288 with 1 Axes>"
            ]
          },
          "metadata": {
            "tags": [],
            "needs_background": "light"
          }
        }
      ]
    },
    {
      "cell_type": "markdown",
      "metadata": {
        "id": "dELMi-Wez85c"
      },
      "source": [
        "**Which city has the highest average price and lowest average price? Does it change if we look at median prices?**"
      ]
    },
    {
      "cell_type": "code",
      "metadata": {
        "id": "Oc13Hq_70Yip"
      },
      "source": [
        "result4 = df_listings.groupby('neighbourhood').agg({'price': ['mean', 'median','min', 'max']})"
      ],
      "execution_count": 31,
      "outputs": []
    },
    {
      "cell_type": "code",
      "metadata": {
        "colab": {
          "base_uri": "https://localhost:8080/",
          "height": 607
        },
        "id": "kE3RsGlw89kL",
        "outputId": "11264474-6504-4a7e-d001-20f62ec37f01"
      },
      "source": [
        "result4.round()"
      ],
      "execution_count": 32,
      "outputs": [
        {
          "output_type": "execute_result",
          "data": {
            "text/html": [
              "<div>\n",
              "<style scoped>\n",
              "    .dataframe tbody tr th:only-of-type {\n",
              "        vertical-align: middle;\n",
              "    }\n",
              "\n",
              "    .dataframe tbody tr th {\n",
              "        vertical-align: top;\n",
              "    }\n",
              "\n",
              "    .dataframe thead tr th {\n",
              "        text-align: left;\n",
              "    }\n",
              "\n",
              "    .dataframe thead tr:last-of-type th {\n",
              "        text-align: right;\n",
              "    }\n",
              "</style>\n",
              "<table border=\"1\" class=\"dataframe\">\n",
              "  <thead>\n",
              "    <tr>\n",
              "      <th></th>\n",
              "      <th colspan=\"4\" halign=\"left\">price</th>\n",
              "    </tr>\n",
              "    <tr>\n",
              "      <th></th>\n",
              "      <th>mean</th>\n",
              "      <th>median</th>\n",
              "      <th>min</th>\n",
              "      <th>max</th>\n",
              "    </tr>\n",
              "    <tr>\n",
              "      <th>neighbourhood</th>\n",
              "      <th></th>\n",
              "      <th></th>\n",
              "      <th></th>\n",
              "      <th></th>\n",
              "    </tr>\n",
              "  </thead>\n",
              "  <tbody>\n",
              "    <tr>\n",
              "      <th>Campbell</th>\n",
              "      <td>169.0</td>\n",
              "      <td>124.0</td>\n",
              "      <td>25</td>\n",
              "      <td>2000</td>\n",
              "    </tr>\n",
              "    <tr>\n",
              "      <th>Cupertino</th>\n",
              "      <td>153.0</td>\n",
              "      <td>111.0</td>\n",
              "      <td>24</td>\n",
              "      <td>3157</td>\n",
              "    </tr>\n",
              "    <tr>\n",
              "      <th>Gilroy</th>\n",
              "      <td>153.0</td>\n",
              "      <td>65.0</td>\n",
              "      <td>36</td>\n",
              "      <td>1189</td>\n",
              "    </tr>\n",
              "    <tr>\n",
              "      <th>Los Altos</th>\n",
              "      <td>198.0</td>\n",
              "      <td>129.0</td>\n",
              "      <td>28</td>\n",
              "      <td>1000</td>\n",
              "    </tr>\n",
              "    <tr>\n",
              "      <th>Los Altos Hills</th>\n",
              "      <td>295.0</td>\n",
              "      <td>145.0</td>\n",
              "      <td>40</td>\n",
              "      <td>3998</td>\n",
              "    </tr>\n",
              "    <tr>\n",
              "      <th>Los Gatos</th>\n",
              "      <td>180.0</td>\n",
              "      <td>120.0</td>\n",
              "      <td>39</td>\n",
              "      <td>1000</td>\n",
              "    </tr>\n",
              "    <tr>\n",
              "      <th>Milpitas</th>\n",
              "      <td>149.0</td>\n",
              "      <td>85.0</td>\n",
              "      <td>0</td>\n",
              "      <td>2222</td>\n",
              "    </tr>\n",
              "    <tr>\n",
              "      <th>Monte Sereno</th>\n",
              "      <td>190.0</td>\n",
              "      <td>134.0</td>\n",
              "      <td>98</td>\n",
              "      <td>1000</td>\n",
              "    </tr>\n",
              "    <tr>\n",
              "      <th>Morgan Hill</th>\n",
              "      <td>95.0</td>\n",
              "      <td>80.0</td>\n",
              "      <td>45</td>\n",
              "      <td>180</td>\n",
              "    </tr>\n",
              "    <tr>\n",
              "      <th>Mountain View</th>\n",
              "      <td>193.0</td>\n",
              "      <td>136.0</td>\n",
              "      <td>24</td>\n",
              "      <td>1200</td>\n",
              "    </tr>\n",
              "    <tr>\n",
              "      <th>Palo Alto</th>\n",
              "      <td>224.0</td>\n",
              "      <td>133.0</td>\n",
              "      <td>29</td>\n",
              "      <td>5000</td>\n",
              "    </tr>\n",
              "    <tr>\n",
              "      <th>San Jose</th>\n",
              "      <td>137.0</td>\n",
              "      <td>92.0</td>\n",
              "      <td>14</td>\n",
              "      <td>2000</td>\n",
              "    </tr>\n",
              "    <tr>\n",
              "      <th>Santa Clara</th>\n",
              "      <td>162.0</td>\n",
              "      <td>100.0</td>\n",
              "      <td>17</td>\n",
              "      <td>3000</td>\n",
              "    </tr>\n",
              "    <tr>\n",
              "      <th>Saratoga</th>\n",
              "      <td>274.0</td>\n",
              "      <td>97.0</td>\n",
              "      <td>37</td>\n",
              "      <td>3400</td>\n",
              "    </tr>\n",
              "    <tr>\n",
              "      <th>Sunnyvale</th>\n",
              "      <td>122.0</td>\n",
              "      <td>90.0</td>\n",
              "      <td>24</td>\n",
              "      <td>3000</td>\n",
              "    </tr>\n",
              "    <tr>\n",
              "      <th>Unincorporated Areas</th>\n",
              "      <td>251.0</td>\n",
              "      <td>110.0</td>\n",
              "      <td>0</td>\n",
              "      <td>5500</td>\n",
              "    </tr>\n",
              "  </tbody>\n",
              "</table>\n",
              "</div>"
            ],
            "text/plain": [
              "                      price                 \n",
              "                       mean median min   max\n",
              "neighbourhood                               \n",
              "Campbell              169.0  124.0  25  2000\n",
              "Cupertino             153.0  111.0  24  3157\n",
              "Gilroy                153.0   65.0  36  1189\n",
              "Los Altos             198.0  129.0  28  1000\n",
              "Los Altos Hills       295.0  145.0  40  3998\n",
              "Los Gatos             180.0  120.0  39  1000\n",
              "Milpitas              149.0   85.0   0  2222\n",
              "Monte Sereno          190.0  134.0  98  1000\n",
              "Morgan Hill            95.0   80.0  45   180\n",
              "Mountain View         193.0  136.0  24  1200\n",
              "Palo Alto             224.0  133.0  29  5000\n",
              "San Jose              137.0   92.0  14  2000\n",
              "Santa Clara           162.0  100.0  17  3000\n",
              "Saratoga              274.0   97.0  37  3400\n",
              "Sunnyvale             122.0   90.0  24  3000\n",
              "Unincorporated Areas  251.0  110.0   0  5500"
            ]
          },
          "metadata": {
            "tags": []
          },
          "execution_count": 32
        }
      ]
    },
    {
      "cell_type": "markdown",
      "metadata": {
        "id": "kRxzd5Jjd7jQ"
      },
      "source": [
        "**How many hosts have only 1 listing, how many have more than 1 listing?**"
      ]
    },
    {
      "cell_type": "code",
      "metadata": {
        "colab": {
          "base_uri": "https://localhost:8080/",
          "height": 131
        },
        "id": "cJWYWwkETNIC",
        "outputId": "79875127-7803-498d-f29c-2a39ae7dc7f6"
      },
      "source": [
        "result5 = sqldf(\"SELECT CASE WHEN num_listings_per_host>1 THEN 'multi_listing_owner' ELSE 'single_listing_owner END AS host_type, SUM(num_hosts) AS num_hosts_per_type FROM (SELECT num_listings AS num_listings_per_host, COUNT(host_id) AS num_hosts FROM (SELECT host_id, COUNT(*) AS num_listings FROM df_listings GROUP BY host_id) GROUP BY num_listings_per_host) GROUP BY host_type\")\n",
        "data_table.DataTable(result5, include_index=False)"
      ],
      "execution_count": 53,
      "outputs": [
        {
          "output_type": "execute_result",
          "data": {
            "application/vnd.google.colaboratory.module+javascript": "\n      import \"https://ssl.gstatic.com/colaboratory/data_table/a6224c040fa35dcf/data_table.js\";\n\n      window.createDataTable({\n        data: [[\"multi_listing_owner\",\n{\n            'v': 779,\n            'f': \"779\",\n        }],\n [\"single_listing_owner\",\n{\n            'v': 1772,\n            'f': \"1772\",\n        }]],\n        columns: [[\"string\", \"host_type\"], [\"number\", \"num_hosts_per_type\"]],\n        columnOptions: [],\n        rowsPerPage: 25,\n        helpUrl: \"https://colab.research.google.com/notebooks/data_table.ipynb\",\n        suppressOutputScrolling: true,\n        minimumWidth: undefined,\n      });\n    ",
            "text/plain": [
              "<google.colab.data_table.DataTable object>"
            ],
            "text/html": [
              "<div>\n",
              "<style scoped>\n",
              "    .dataframe tbody tr th:only-of-type {\n",
              "        vertical-align: middle;\n",
              "    }\n",
              "\n",
              "    .dataframe tbody tr th {\n",
              "        vertical-align: top;\n",
              "    }\n",
              "\n",
              "    .dataframe thead th {\n",
              "        text-align: right;\n",
              "    }\n",
              "</style>\n",
              "<table border=\"1\" class=\"dataframe\">\n",
              "  <thead>\n",
              "    <tr style=\"text-align: right;\">\n",
              "      <th></th>\n",
              "      <th>host_type</th>\n",
              "      <th>num_hosts_per_type</th>\n",
              "    </tr>\n",
              "  </thead>\n",
              "  <tbody>\n",
              "    <tr>\n",
              "      <th>0</th>\n",
              "      <td>multi_listing_owner</td>\n",
              "      <td>779</td>\n",
              "    </tr>\n",
              "    <tr>\n",
              "      <th>1</th>\n",
              "      <td>single_listing_owner</td>\n",
              "      <td>1772</td>\n",
              "    </tr>\n",
              "  </tbody>\n",
              "</table>\n",
              "</div>"
            ]
          },
          "metadata": {
            "tags": []
          },
          "execution_count": 53
        }
      ]
    },
    {
      "cell_type": "code",
      "metadata": {
        "colab": {
          "base_uri": "https://localhost:8080/",
          "height": 388
        },
        "id": "fvZPaH-Biz0J",
        "outputId": "156291ab-bb27-4b41-c820-dfc696e04c1a"
      },
      "source": [
        "result5.plot.bar(x = 'host_type', y = 'num_hosts_per_type')"
      ],
      "execution_count": 68,
      "outputs": [
        {
          "output_type": "execute_result",
          "data": {
            "text/plain": [
              "<matplotlib.axes._subplots.AxesSubplot at 0x7f75f668dd10>"
            ]
          },
          "metadata": {
            "tags": []
          },
          "execution_count": 68
        },
        {
          "output_type": "display_data",
          "data": {
            "image/png": "[encoded data removed]",
            "text/plain": [
              "<Figure size 432x288 with 1 Axes>"
            ]
          },
          "metadata": {
            "tags": [],
            "needs_background": "light"
          }
        }
      ]
    }
  ]
}